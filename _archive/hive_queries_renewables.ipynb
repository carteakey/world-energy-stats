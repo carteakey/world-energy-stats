{
 "cells": [
  {
   "cell_type": "code",
   "execution_count": null,
   "id": "688126d8-f555-46c6-b1f2-8e66a9bd8238",
   "metadata": {},
   "outputs": [],
   "source": [
    "from pyspark.sql import SparkSession\n",
    "\n",
    "spark = SparkSession.builder \\\n",
    "    .appName(\"hive-queries\") \\\n",
    "    .master(\"spark://spark-master:7077\")\\\n",
    "    .config(\"hive.metastore.uris\", \"thrift://hive-metastore:9083\") \\\n",
    "    .enableHiveSupport() \\\n",
    "    .getOrCreate()\n",
    "\n",
    "# spark.stop()"
   ]
  },
  {
   "cell_type": "code",
   "execution_count": null,
   "id": "099e0589-978c-41e5-aad7-eaac7641c008",
   "metadata": {},
   "outputs": [],
   "source": [
    "#Use WES Database\n",
    "spark.sql(\"USE wes\")\n",
    "current_db = spark.sql(\"SELECT current_database()\").collect()[0][0]\n",
    "print(current_db)"
   ]
  },
  {
   "cell_type": "code",
   "execution_count": null,
   "id": "d86409cf-9548-4228-80ef-0fa17a2bb137",
   "metadata": {},
   "outputs": [],
   "source": [
    "df_insight_1 = spark.sql(\"select year,renewables_consumption,fossil_fuel_consumption from wes.world\")\n",
    "\n",
    "df_insight_1.show()\n",
    "\n",
    "df_insight_1.toPandas().to_csv(\"insight-1.csv\", index=False)\n"
   ]
  },
  {
   "cell_type": "code",
   "execution_count": null,
   "id": "b8182429-6395-43e7-9660-538b8e53b7e2",
   "metadata": {},
   "outputs": [],
   "source": [
    "# Countries that majorly depend on renewables\n",
    "query_renewables_majority = \"\"\"\n",
    "    SELECT country, year, renewables_consumption, fossil_fuel_consumption\n",
    "    FROM wes.world\n",
    "\n",
    "\"\"\"\n",
    "\n",
    "# Execute the query for renewables-majority countries\n",
    "df_renewables_majority = spark.sql(query_renewables_majority)\n",
    "\n",
    "# Show the results for renewables-majority countries\n",
    "df_renewables_majority.show()\n",
    "\n",
    "# Save the results for renewables-majority countries to a CSV file\n",
    "df_renewables_majority.toPandas().to_csv(\"renewables_majority.csv\", index=False)"
   ]
  },
  {
   "cell_type": "code",
   "execution_count": null,
   "id": "97ec7760-a13e-4b24-8290-077f64f796a4",
   "metadata": {},
   "outputs": [],
   "source": [
    "# Use the WES database\n",
    "spark.sql(\"USE wes\")\n",
    "\n",
    "# Query to get the required data for countries majorly depending on renewables\n",
    "query_renewables_majority = \"\"\"\n",
    "    SELECT country, year, renewables_share_elec, renewables_consumption, renewables_electricity\n",
    "    FROM wes.world\n",
    "    WHERE renewables_share_elec IS NOT NULL\n",
    "        AND renewables_share_elec > 0.5\n",
    "\"\"\"\n",
    "\n",
    "# Execute the query for renewables-majority countries\n",
    "df_renewables_majority = spark.sql(query_renewables_majority)\n",
    "\n",
    "# Show the results for renewables-majority countries\n",
    "df_renewables_majority.show()\n",
    "\n",
    "# Save the results for renewables-majority countries to a CSV file\n",
    "df_renewables_majority.toPandas().to_csv(\"renewables_majority2.csv\", index=False)\n"
   ]
  },
  {
   "cell_type": "code",
   "execution_count": null,
   "id": "42bbba8e-5b71-4765-a9d3-dc6e7ba5cfa5",
   "metadata": {},
   "outputs": [],
   "source": [
    "# Use the WES database\n",
    "spark.sql(\"USE wes\")\n",
    "\n",
    "# Query to get the required data for countries majorly depending on renewables\n",
    "query_renewables_majority = \"\"\"\n",
    "    SELECT country, year, renewables_share_elec, renewables_consumption, renewables_electricity\n",
    "    FROM wes.world\n",
    "    WHERE renewables_share_elec IS NOT NULL\n",
    "        AND renewables_share_elec > 0.5\n",
    "\n",
    "    ORDER BY renewables_share_elec DESC\n",
    "\"\"\"\n",
    "\n",
    "# Execute the query for renewables-majority countries\n",
    "df_renewables_majority = spark.sql(query_renewables_majority)\n",
    "\n",
    "# Show the results for renewables-majority countries\n",
    "df_renewables_majority.show()\n",
    "\n",
    "# Save the results for renewables-majority countries to a CSV file\n",
    "df_renewables_majority.toPandas().to_csv(\"renewables_majority4.csv\", index=False)"
   ]
  },
  {
   "cell_type": "code",
   "execution_count": null,
   "id": "e8c6c680-0d55-4097-b877-5bc56c469e27",
   "metadata": {},
   "outputs": [],
   "source": []
  }
 ],
 "metadata": {
  "kernelspec": {
   "display_name": "Python 3 (ipykernel)",
   "language": "python",
   "name": "python3"
  },
  "language_info": {
   "codemirror_mode": {
    "name": "ipython",
    "version": 3
   },
   "file_extension": ".py",
   "mimetype": "text/x-python",
   "name": "python",
   "nbconvert_exporter": "python",
   "pygments_lexer": "ipython3",
   "version": "3.7.12"
  }
 },
 "nbformat": 4,
 "nbformat_minor": 5
}
