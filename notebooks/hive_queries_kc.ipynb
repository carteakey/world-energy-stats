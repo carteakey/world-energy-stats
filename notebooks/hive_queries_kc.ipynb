{
 "cells": [
  {
   "cell_type": "code",
   "execution_count": 1,
   "id": "688126d8-f555-46c6-b1f2-8e66a9bd8238",
   "metadata": {},
   "outputs": [],
   "source": [
    "from pyspark.sql import SparkSession\n",
    "\n",
    "spark = SparkSession.builder \\\n",
    "    .appName(\"hive-queries\") \\\n",
    "    .master(\"spark://spark-master:7077\")\\\n",
    "    .config(\"hive.metastore.uris\", \"thrift://hive-metastore:9083\") \\\n",
    "    .enableHiveSupport() \\\n",
    "    .getOrCreate()\n",
    "\n",
    "# spark.stop()"
   ]
  },
  {
   "cell_type": "code",
   "execution_count": null,
   "id": "099e0589-978c-41e5-aad7-eaac7641c008",
   "metadata": {},
   "outputs": [],
   "source": [
    "#Use WES Database\n",
    "spark.sql(\"USE wes\")\n",
    "current_db = spark.sql(\"SELECT current_database()\").collect()[0][0]\n",
    "print(current_db)"
   ]
  },
  {
   "cell_type": "code",
   "execution_count": null,
   "id": "582c2182-c55b-4a77-b5a4-58a57ccd1c98",
   "metadata": {},
   "outputs": [],
   "source": [
    "from pyspark.sql import SparkSession\n",
    "\n",
    "def run_spark_sql(sql_file_path, save_file=None):\n",
    "    \"\"\"\n",
    "    Executes a SQL query from a file in Spark SQL.\n",
    "\n",
    "    Parameters:\n",
    "    sql_file_path (str): Path to the SQL query file.\n",
    "    save_file (str, optional): Path to save the output. If None, the output is not saved.\n",
    "    \"\"\"\n",
    "\n",
    "    # Start Spark Session\n",
    "    spark = SparkSession.builder \\\n",
    "    .appName(\"hive-queries\") \\\n",
    "    .master(\"spark://spark-master:7077\")\\\n",
    "    .config(\"hive.metastore.uris\", \"thrift://hive-metastore:9083\") \\\n",
    "    .enableHiveSupport() \\\n",
    "    .getOrCreate()\n",
    "    \n",
    "    # Use WES\n",
    "    spark.sql(\"USE wes\")\n",
    "\n",
    "    # Read SQL query from the file\n",
    "    with open(\"sql/\"+sql_file_path, 'r') as file:\n",
    "        sql_query = file.read()\n",
    "\n",
    "    # Execute the SQL query\n",
    "    result = spark.sql(sql_query)\n",
    "\n",
    "    # Show the first 20 rows\n",
    "    result.show()\n",
    "\n",
    "    # Save the result to a file if a save path is provided\n",
    "    if save_file:\n",
    "        result.toPandas().to_csv(\"output/\"+save_file,  index=False)\n",
    "\n",
    "    # Stop the Spark Session\n",
    "    spark.stop()\n",
    "\n"
   ]
  },
  {
   "cell_type": "code",
   "execution_count": null,
   "id": "5a9eb3b1-09e9-4364-8ca1-e5bb8aa5158a",
   "metadata": {},
   "outputs": [],
   "source": [
    "run_spark_sql(\"combined_energy_data.sql\")"
   ]
  },
  {
   "cell_type": "code",
   "execution_count": null,
   "id": "d86409cf-9548-4228-80ef-0fa17a2bb137",
   "metadata": {},
   "outputs": [],
   "source": [
    "run_spark_sql(\"ren_vs_fossil.sql\", \"insight-1\") "
   ]
  },
  {
   "cell_type": "code",
   "execution_count": null,
   "id": "fe447b0c-131f-4ca4-81dd-99d1f95045d9",
   "metadata": {},
   "outputs": [],
   "source": [
    "run_spark_sql(\"energy_share.sql\", \"insight-2.csv\") "
   ]
  },
  {
   "cell_type": "code",
   "execution_count": null,
   "id": "fa32ce74-04ec-4709-9573-a57847da61c6",
   "metadata": {},
   "outputs": [],
   "source": [
    "run_spark_sql(\"energy_breakdown_top10.sql\",\"insight-3.csv\")"
   ]
  },
  {
   "cell_type": "code",
   "execution_count": null,
   "id": "54dceee3-f529-4f76-be32-b95d62994683",
   "metadata": {},
   "outputs": [],
   "source": []
  }
 ],
 "metadata": {
  "kernelspec": {
   "display_name": "Python 3 (ipykernel)",
   "language": "python",
   "name": "python3"
  },
  "language_info": {
   "codemirror_mode": {
    "name": "ipython",
    "version": 3
   },
   "file_extension": ".py",
   "mimetype": "text/x-python",
   "name": "python",
   "nbconvert_exporter": "python",
   "pygments_lexer": "ipython3",
   "version": "3.7.12"
  }
 },
 "nbformat": 4,
 "nbformat_minor": 5
}
