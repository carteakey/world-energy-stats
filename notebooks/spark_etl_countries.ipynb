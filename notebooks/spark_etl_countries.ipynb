{
 "cells": [
  {
   "cell_type": "code",
   "execution_count": 10,
   "id": "a6f543c6-fc4e-419f-97b2-926a95537231",
   "metadata": {},
   "outputs": [],
   "source": [
    "from pyspark.sql import SparkSession\n",
    "from utils import run_spark_sql,filter_df_by_threshold,count_nulls_by_country\n",
    "\n",
    "# Spark session & context\n",
    "spark = SparkSession.builder \\\n",
    "    .appName(\"world-energy-stats\") \\\n",
    "    .master(\"spark://spark-master:7077\")\\\n",
    "    .config(\"hive.metastore.uris\", \"thrift://hive-metastore:9083\") \\\n",
    "    .enableHiveSupport() \\\n",
    "    .getOrCreate()\n",
    "\n",
    "#Local Development\n",
    "# spark = SparkSession.builder.appName(\"world-energy-stats\").master(\"local\").getOrCreate()"
   ]
  },
  {
   "cell_type": "code",
   "execution_count": 2,
   "id": "adfbf750-99a1-42f9-9812-d0f5142d7617",
   "metadata": {},
   "outputs": [],
   "source": [
    "df = (spark.read\n",
    "  .format(\"csv\")\n",
    "  .option(\"header\", \"true\")\n",
    "  .option(\"inferSchema\", \"true\")\n",
    "   .load(\"hdfs://namenode:9000/energy-data/owid-energy-data.csv\"))\n",
    "\n",
    "#Local Development\n",
    "# df = spark.read.csv(\"owid-energy-data.csv\", header=True, inferSchema=True)"
   ]
  },
  {
   "cell_type": "code",
   "execution_count": 3,
   "id": "8c4e216a-816b-43cf-9fc8-9ce2e6b3b2bc",
   "metadata": {},
   "outputs": [],
   "source": [
    "#DROPPING REGIONS (FOR NOW)\n",
    "df = df.filter(df['iso_code'].isNotNull())"
   ]
  },
  {
   "cell_type": "code",
   "execution_count": 4,
   "id": "cecc992f-2a4e-4cc4-ade6-af50e453ca75",
   "metadata": {},
   "outputs": [
    {
     "name": "stdout",
     "output_type": "stream",
     "text": [
      "+----+-----+\n",
      "|year|count|\n",
      "+----+-----+\n",
      "|1990|  208|\n",
      "|1991|  208|\n",
      "|1992|  214|\n",
      "|1993|  214|\n",
      "|1994|  215|\n",
      "|1995|  215|\n",
      "|1996|  215|\n",
      "|1997|  216|\n",
      "|1998|  216|\n",
      "|1999|  216|\n",
      "|2000|  216|\n",
      "|2001|  216|\n",
      "|2002|  216|\n",
      "|2003|  217|\n",
      "|2004|  217|\n",
      "|2005|  218|\n",
      "|2006|  218|\n",
      "|2007|  218|\n",
      "|2008|  218|\n",
      "|2009|  218|\n",
      "|2010|  218|\n",
      "|2011|  218|\n",
      "|2012|  219|\n",
      "|2013|  219|\n",
      "|2014|  219|\n",
      "|2015|  219|\n",
      "|2016|  219|\n",
      "|2017|  219|\n",
      "|2018|  219|\n",
      "|2019|  219|\n",
      "|2020|  219|\n",
      "|2021|  219|\n",
      "|2022|  108|\n",
      "+----+-----+\n",
      "\n"
     ]
    }
   ],
   "source": [
    "df = df[df['year'] >=1990]\n",
    "\n",
    "# Drop 2022 as well.\n",
    "# df = df[df['year'] >=1990]\n",
    "\n",
    "#40 years of data\n",
    "grouped_df = df.groupBy(\"year\").count().orderBy(\"year\")\n",
    "grouped_df.show(40)"
   ]
  },
  {
   "cell_type": "code",
   "execution_count": 5,
   "id": "2b263e1f-7b78-4c65-9ce4-acca1782673a",
   "metadata": {},
   "outputs": [
    {
     "data": {
      "text/plain": [
       "[Row(country='Afghanistan', year=1990, iso_code='AFG', population=10694804, gdp=13065984000.0, biofuel_consumption=None, biofuel_electricity=None, biofuel_share_elec=None, biofuel_share_energy=None, carbon_intensity_elec=None, coal_consumption=None, coal_electricity=None, coal_production=0.61, coal_share_elec=None, coal_share_energy=None, electricity_demand=None, electricity_generation=None, electricity_share_energy=None, energy_per_gdp=2.43, fossil_electricity=None, fossil_fuel_consumption=None, fossil_share_elec=None, fossil_share_energy=None, gas_consumption=None, gas_electricity=None, gas_production=31.941, gas_share_elec=None, gas_share_energy=None, greenhouse_gas_emissions=None, hydro_consumption=None, hydro_electricity=None, hydro_share_elec=None, hydro_share_energy=None, low_carbon_consumption=None, low_carbon_electricity=None, low_carbon_share_elec=None, low_carbon_share_energy=None, net_elec_imports=None, net_elec_imports_share_demand=None, nuclear_consumption=None, nuclear_electricity=None, nuclear_share_elec=None, nuclear_share_energy=None, oil_consumption=None, oil_electricity=None, oil_production=0.0, oil_share_elec=None, oil_share_energy=None, other_renewable_consumption=None, other_renewable_electricity=None, other_renewable_exc_biofuel_electricity=None, other_renewables_share_elec=None, other_renewables_share_elec_exc_biofuel=None, other_renewables_share_energy=None, per_capita_electricity=None, primary_energy_consumption=31.746, renewables_consumption=None, renewables_electricity=None, renewables_share_elec=None, renewables_share_energy=None, solar_consumption=None, solar_electricity=None, solar_share_elec=None, solar_share_energy=None, wind_consumption=None, wind_electricity=None, wind_share_elec=None, wind_share_energy=None)]"
      ]
     },
     "execution_count": 5,
     "metadata": {},
     "output_type": "execute_result"
    }
   ],
   "source": [
    "# Dropping irrelevant columns\n",
    "cols_to_drop = [col for col in df.columns if '_per_gdp' if '_per_capita' in col or '_change_pct' in col or '_change_twh' in col]\n",
    "df = df.drop(*cols_to_drop)\n",
    "# per_capita_electricity\n",
    "\n",
    "# Show the updated DataFrame\n",
    "df.head(n=1)"
   ]
  },
  {
   "cell_type": "code",
   "execution_count": 6,
   "id": "f3c54bd4-0a0f-46e8-ae53-1d7b1047d800",
   "metadata": {},
   "outputs": [],
   "source": [
    "from pyspark.sql import Window\n",
    "from pyspark.sql.functions import last, first\n",
    "\n",
    "temp_column = [column for column in df.columns if 'year' not in column]\n",
    "temp_column = [column for column in temp_column if 'country' not in column]\n",
    "temp_column\n",
    "\n",
    "import pyspark.sql.functions as F\n",
    "\n",
    "# Define the windows for forward fill and backward fill\n",
    "ffill_window = \"(partition by country order by year rows between unbounded preceding and current row)\"\n",
    "# bfill_window = \"(partition by country order by year rows between current row and unbounded following)\"\n",
    "\n",
    "for col in temp_column:\n",
    "    df = (df.withColumn(col, F.expr(f\"case when isnan({col}) then null else {col} end\"))\n",
    "    .withColumn(col, F.expr(f\"coalesce({col}, last({col}, true) over {ffill_window})\")))\n",
    "    # .withColumn(col, F.expr(f\"coalesce({col}, first({col}, true) over {bfill_window})\")))"
   ]
  },
  {
   "cell_type": "code",
   "execution_count": 7,
   "id": "16d678c1-2761-48e3-8faf-f2813eb32a1a",
   "metadata": {},
   "outputs": [],
   "source": [
    "### LEVEL 1 CATEGORIZATION FOR BACKFILLING AND LOGICAL SEPARATION\n",
    "\n",
    "# Primary Key Columns\n",
    "primary_keys = ['country', 'year', 'iso_code']\n",
    "\n",
    "# 1. General Information\n",
    "df_general = df[primary_keys + ['population', 'gdp', 'electricity_demand', 'electricity_generation', 'primary_energy_consumption']]\n",
    "\n",
    "# 2. Biofuel\n",
    "df_biofuel = df[primary_keys + ['biofuel_consumption', 'biofuel_electricity', 'biofuel_share_elec', 'biofuel_share_energy']]\n",
    "\n",
    "# 3. Coal\n",
    "df_coal = df[primary_keys + ['coal_consumption', 'coal_electricity', 'coal_production', 'coal_share_elec', 'coal_share_energy']]\n",
    "\n",
    "# 4. Gas\n",
    "df_gas = df[primary_keys + ['gas_consumption', 'gas_electricity', 'gas_production', 'gas_share_elec', 'gas_share_energy']]\n",
    "\n",
    "# 5. Oil\n",
    "df_oil = df[primary_keys + ['oil_consumption', 'oil_electricity', 'oil_production', 'oil_share_elec', 'oil_share_energy']]\n",
    "\n",
    "# 6. Fossil Fuels (Aggregate)\n",
    "df_fossil = df[primary_keys + ['fossil_electricity', 'fossil_fuel_consumption', 'fossil_share_elec', 'fossil_share_energy', 'carbon_intensity_elec']]\n",
    "\n",
    "# 7. Greenhouse Gas\n",
    "df_greenhouse_gas = df[primary_keys + ['greenhouse_gas_emissions']]\n",
    "\n",
    "# 8. Hydro\n",
    "df_hydro = df[primary_keys + ['hydro_consumption', 'hydro_electricity', 'hydro_share_elec', 'hydro_share_energy']]\n",
    "\n",
    "# 9. Nuclear\n",
    "df_nuclear = df[primary_keys + ['nuclear_consumption', 'nuclear_electricity', 'nuclear_share_elec', 'nuclear_share_energy']]\n",
    "\n",
    "# 10. Renewables (Aggregate)\n",
    "df_renewables = df[primary_keys + ['renewables_consumption', 'renewables_electricity', 'renewables_share_elec', 'renewables_share_energy']]\n",
    "\n",
    "# 11. Solar\n",
    "df_solar = df[primary_keys + ['solar_consumption', 'solar_electricity', 'solar_share_elec', 'solar_share_energy']]\n",
    "\n",
    "# 12. Wind\n",
    "df_wind = df[primary_keys + ['wind_consumption', 'wind_electricity', 'wind_share_elec', 'wind_share_energy']]\n",
    "\n",
    "# 13. Other Renewables\n",
    "df_other_renewables = df[primary_keys + ['other_renewable_consumption', 'other_renewable_electricity', 'other_renewable_exc_biofuel_electricity', 'other_renewables_share_elec', 'other_renewables_share_elec_exc_biofuel', 'other_renewables_share_energy']]\n",
    "\n",
    "# 14. Low Carbon\n",
    "df_low_carbon = df[primary_keys + ['low_carbon_consumption', 'low_carbon_electricity', 'low_carbon_share_elec', 'low_carbon_share_energy']]\n",
    "\n",
    "# 15. Electricity Imports\n",
    "df_electricity_imports = df[primary_keys + ['net_elec_imports', 'net_elec_imports_share_demand']]\n"
   ]
  },
  {
   "cell_type": "code",
   "execution_count": 8,
   "id": "cf12623b-7ce9-4238-a3ac-5aa6e6a142ac",
   "metadata": {
    "tags": []
   },
   "outputs": [
    {
     "ename": "NameError",
     "evalue": "name 'count_nulls_by_country' is not defined",
     "output_type": "error",
     "traceback": [
      "\u001b[0;31m---------------------------------------------------------------------------\u001b[0m",
      "\u001b[0;31mNameError\u001b[0m                                 Traceback (most recent call last)",
      "\u001b[0;32m/tmp/ipykernel_283/3027379363.py\u001b[0m in \u001b[0;36m<module>\u001b[0;34m\u001b[0m\n\u001b[1;32m      1\u001b[0m \u001b[0;31m# Usage example:\u001b[0m\u001b[0;34m\u001b[0m\u001b[0;34m\u001b[0m\u001b[0;34m\u001b[0m\u001b[0m\n\u001b[0;32m----> 2\u001b[0;31m \u001b[0mnull_counts_fossil\u001b[0m \u001b[0;34m=\u001b[0m \u001b[0mcount_nulls_by_country\u001b[0m\u001b[0;34m(\u001b[0m\u001b[0mdf_fossil\u001b[0m\u001b[0;34m)\u001b[0m\u001b[0;34m\u001b[0m\u001b[0;34m\u001b[0m\u001b[0m\n\u001b[0m\u001b[1;32m      3\u001b[0m \u001b[0;34m\u001b[0m\u001b[0m\n\u001b[1;32m      4\u001b[0m \u001b[0;31m# # Show the results\u001b[0m\u001b[0;34m\u001b[0m\u001b[0;34m\u001b[0m\u001b[0;34m\u001b[0m\u001b[0m\n\u001b[1;32m      5\u001b[0m \u001b[0mnull_counts_fossil\u001b[0m\u001b[0;34m.\u001b[0m\u001b[0mshow\u001b[0m\u001b[0;34m(\u001b[0m\u001b[0mn\u001b[0m\u001b[0;34m=\u001b[0m\u001b[0;36m5\u001b[0m\u001b[0;34m)\u001b[0m\u001b[0;34m\u001b[0m\u001b[0;34m\u001b[0m\u001b[0m\n",
      "\u001b[0;31mNameError\u001b[0m: name 'count_nulls_by_country' is not defined"
     ]
    }
   ],
   "source": [
    "# Usage example:\n",
    "null_counts_fossil = count_nulls_by_country(df_fossil)\n",
    "\n",
    "# # Show the results\n",
    "null_counts_fossil.show(n=5)"
   ]
  },
  {
   "cell_type": "code",
   "execution_count": 11,
   "id": "ef7b603e-c9b5-4dee-a9e3-9c73890889c7",
   "metadata": {},
   "outputs": [
    {
     "name": "stdout",
     "output_type": "stream",
     "text": [
      "{'Original number of rows': 7043, 'Number of rows after filtering': 7043, 'Number of rows dropped': 0, 'Dropped countries': []}\n",
      "{'Original number of rows': 7043, 'Number of rows after filtering': 6754, 'Number of rows dropped': 289, 'Dropped countries': ['Chile', 'Antarctica', 'Gibraltar', 'Bermuda', 'Northern Mariana Islands', 'Saint Helena', 'Tuvalu', 'Netherlands Antilles', 'Micronesia (country)']}\n",
      "{'Original number of rows': 7043, 'Number of rows after filtering': 6947, 'Number of rows dropped': 96, 'Dropped countries': ['Antarctica', 'Tuvalu', 'Micronesia (country)']}\n",
      "{'Original number of rows': 7043, 'Number of rows after filtering': 6947, 'Number of rows dropped': 96, 'Dropped countries': ['Tuvalu', 'Micronesia (country)', 'Antarctica']}\n",
      "{'Original number of rows': 7043, 'Number of rows after filtering': 6947, 'Number of rows dropped': 96, 'Dropped countries': ['Tuvalu', 'Micronesia (country)', 'Antarctica']}\n",
      "{'Original number of rows': 7043, 'Number of rows after filtering': 6883, 'Number of rows dropped': 160, 'Dropped countries': ['Northern Mariana Islands', 'Tuvalu', 'Netherlands Antilles', 'Micronesia (country)', 'Antarctica']}\n",
      "{'Original number of rows': 7043, 'Number of rows after filtering': 6883, 'Number of rows dropped': 160, 'Dropped countries': ['Northern Mariana Islands', 'Tuvalu', 'Netherlands Antilles', 'Micronesia (country)', 'Antarctica']}\n",
      "{'Original number of rows': 7043, 'Number of rows after filtering': 6883, 'Number of rows dropped': 160, 'Dropped countries': ['Northern Mariana Islands', 'Tuvalu', 'Netherlands Antilles', 'Micronesia (country)', 'Antarctica']}\n",
      "{'Original number of rows': 7043, 'Number of rows after filtering': 6883, 'Number of rows dropped': 160, 'Dropped countries': ['Antarctica', 'Northern Mariana Islands', 'Tuvalu', 'Netherlands Antilles', 'Micronesia (country)']}\n",
      "{'Original number of rows': 7043, 'Number of rows after filtering': 6883, 'Number of rows dropped': 160, 'Dropped countries': ['Antarctica', 'Northern Mariana Islands', 'Tuvalu', 'Netherlands Antilles', 'Micronesia (country)']}\n",
      "{'Original number of rows': 7043, 'Number of rows after filtering': 6883, 'Number of rows dropped': 160, 'Dropped countries': ['Northern Mariana Islands', 'Tuvalu', 'Netherlands Antilles', 'Micronesia (country)', 'Antarctica']}\n",
      "{'Original number of rows': 7043, 'Number of rows after filtering': 6883, 'Number of rows dropped': 160, 'Dropped countries': ['Northern Mariana Islands', 'Tuvalu', 'Netherlands Antilles', 'Micronesia (country)', 'Antarctica']}\n",
      "{'Original number of rows': 7043, 'Number of rows after filtering': 6883, 'Number of rows dropped': 160, 'Dropped countries': ['Antarctica', 'Northern Mariana Islands', 'Tuvalu', 'Netherlands Antilles', 'Micronesia (country)']}\n",
      "{'Original number of rows': 7043, 'Number of rows after filtering': 6883, 'Number of rows dropped': 160, 'Dropped countries': ['Northern Mariana Islands', 'Tuvalu', 'Netherlands Antilles', 'Micronesia (country)', 'Antarctica']}\n",
      "{'Original number of rows': 7043, 'Number of rows after filtering': 6883, 'Number of rows dropped': 160, 'Dropped countries': ['Antarctica', 'Northern Mariana Islands', 'Tuvalu', 'Netherlands Antilles', 'Micronesia (country)']}\n"
     ]
    }
   ],
   "source": [
    "# Calling the filter function on each dataframe\n",
    "filtered_df_general = filter_df_by_threshold(df_general, 0)\n",
    "filtered_df_biofuel = filter_df_by_threshold(df_biofuel, 0)\n",
    "filtered_df_coal = filter_df_by_threshold(df_coal, 0)\n",
    "filtered_df_gas = filter_df_by_threshold(df_gas, 0)\n",
    "filtered_df_oil = filter_df_by_threshold(df_oil, 0)\n",
    "filtered_df_fossil = filter_df_by_threshold(df_fossil, 0)\n",
    "filtered_df_greenhouse_gas = filter_df_by_threshold(df_greenhouse_gas, 0)\n",
    "filtered_df_hydro = filter_df_by_threshold(df_hydro, 0)\n",
    "filtered_df_nuclear = filter_df_by_threshold(df_nuclear, 0)\n",
    "filtered_df_renewables = filter_df_by_threshold(df_renewables, 0)\n",
    "filtered_df_solar = filter_df_by_threshold(df_solar, 0)\n",
    "filtered_df_wind = filter_df_by_threshold(df_wind, 0)\n",
    "filtered_df_other_renewables = filter_df_by_threshold(df_other_renewables, 0)\n",
    "filtered_df_low_carbon = filter_df_by_threshold(df_low_carbon, 0)\n",
    "filtered_df_electricity_imports = filter_df_by_threshold(df_electricity_imports, 0)"
   ]
  },
  {
   "cell_type": "code",
   "execution_count": null,
   "id": "25e60749-1746-4b07-a816-505f887d9396",
   "metadata": {},
   "outputs": [],
   "source": [
    "filtered_df_ren = filter_df_by_threshold(df_renewables, 0)\n",
    "\n",
    "# Assuming df is your DataFrame\n",
    "null_counts_ren = count_nulls_by_country(filtered_df_ren)\n",
    "\n",
    "# Show the results\n",
    "null_counts_ren.show(n=10)"
   ]
  },
  {
   "cell_type": "code",
   "execution_count": 12,
   "id": "aaf36bcc-b623-4401-ab39-ec3b20636778",
   "metadata": {},
   "outputs": [
    {
     "ename": "PermissionError",
     "evalue": "[Errno 13] Permission denied: './clean/general.csv'",
     "output_type": "error",
     "traceback": [
      "\u001b[0;31m---------------------------------------------------------------------------\u001b[0m",
      "\u001b[0;31mPermissionError\u001b[0m                           Traceback (most recent call last)",
      "\u001b[0;32m/tmp/ipykernel_283/1482078825.py\u001b[0m in \u001b[0;36m<module>\u001b[0;34m\u001b[0m\n\u001b[1;32m      3\u001b[0m \u001b[0;34m\u001b[0m\u001b[0m\n\u001b[1;32m      4\u001b[0m \u001b[0;31m# Define file paths for each dataframe within the \"clean\" folder\u001b[0m\u001b[0;34m\u001b[0m\u001b[0;34m\u001b[0m\u001b[0;34m\u001b[0m\u001b[0m\n\u001b[0;32m----> 5\u001b[0;31m \u001b[0mfiltered_df_general\u001b[0m\u001b[0;34m.\u001b[0m\u001b[0mtoPandas\u001b[0m\u001b[0;34m(\u001b[0m\u001b[0;34m)\u001b[0m\u001b[0;34m.\u001b[0m\u001b[0mto_csv\u001b[0m\u001b[0;34m(\u001b[0m\u001b[0mfolder_path\u001b[0m \u001b[0;34m+\u001b[0m \u001b[0;34m'general.csv'\u001b[0m\u001b[0;34m,\u001b[0m \u001b[0mindex\u001b[0m\u001b[0;34m=\u001b[0m\u001b[0;32mFalse\u001b[0m\u001b[0;34m)\u001b[0m\u001b[0;34m\u001b[0m\u001b[0;34m\u001b[0m\u001b[0m\n\u001b[0m\u001b[1;32m      6\u001b[0m \u001b[0mfiltered_df_biofuel\u001b[0m\u001b[0;34m.\u001b[0m\u001b[0mtoPandas\u001b[0m\u001b[0;34m(\u001b[0m\u001b[0;34m)\u001b[0m\u001b[0;34m.\u001b[0m\u001b[0mto_csv\u001b[0m\u001b[0;34m(\u001b[0m\u001b[0mfolder_path\u001b[0m \u001b[0;34m+\u001b[0m \u001b[0;34m'biofuel.csv'\u001b[0m\u001b[0;34m,\u001b[0m \u001b[0mindex\u001b[0m\u001b[0;34m=\u001b[0m\u001b[0;32mFalse\u001b[0m\u001b[0;34m)\u001b[0m\u001b[0;34m\u001b[0m\u001b[0;34m\u001b[0m\u001b[0m\n\u001b[1;32m      7\u001b[0m \u001b[0mfiltered_df_coal\u001b[0m\u001b[0;34m.\u001b[0m\u001b[0mtoPandas\u001b[0m\u001b[0;34m(\u001b[0m\u001b[0;34m)\u001b[0m\u001b[0;34m.\u001b[0m\u001b[0mto_csv\u001b[0m\u001b[0;34m(\u001b[0m\u001b[0mfolder_path\u001b[0m \u001b[0;34m+\u001b[0m \u001b[0;34m'coal.csv'\u001b[0m\u001b[0;34m,\u001b[0m \u001b[0mindex\u001b[0m\u001b[0;34m=\u001b[0m\u001b[0;32mFalse\u001b[0m\u001b[0;34m)\u001b[0m\u001b[0;34m\u001b[0m\u001b[0;34m\u001b[0m\u001b[0m\n",
      "\u001b[0;32m/opt/conda/lib/python3.7/site-packages/pandas/core/generic.py\u001b[0m in \u001b[0;36mto_csv\u001b[0;34m(self, path_or_buf, sep, na_rep, float_format, columns, header, index, index_label, mode, encoding, compression, quoting, quotechar, line_terminator, chunksize, date_format, doublequote, escapechar, decimal, errors, storage_options)\u001b[0m\n\u001b[1;32m   3480\u001b[0m             \u001b[0mdoublequote\u001b[0m\u001b[0;34m=\u001b[0m\u001b[0mdoublequote\u001b[0m\u001b[0;34m,\u001b[0m\u001b[0;34m\u001b[0m\u001b[0;34m\u001b[0m\u001b[0m\n\u001b[1;32m   3481\u001b[0m             \u001b[0mescapechar\u001b[0m\u001b[0;34m=\u001b[0m\u001b[0mescapechar\u001b[0m\u001b[0;34m,\u001b[0m\u001b[0;34m\u001b[0m\u001b[0;34m\u001b[0m\u001b[0m\n\u001b[0;32m-> 3482\u001b[0;31m             \u001b[0mstorage_options\u001b[0m\u001b[0;34m=\u001b[0m\u001b[0mstorage_options\u001b[0m\u001b[0;34m,\u001b[0m\u001b[0;34m\u001b[0m\u001b[0;34m\u001b[0m\u001b[0m\n\u001b[0m\u001b[1;32m   3483\u001b[0m         )\n\u001b[1;32m   3484\u001b[0m \u001b[0;34m\u001b[0m\u001b[0m\n",
      "\u001b[0;32m/opt/conda/lib/python3.7/site-packages/pandas/io/formats/format.py\u001b[0m in \u001b[0;36mto_csv\u001b[0;34m(self, path_or_buf, encoding, sep, columns, index_label, mode, compression, quoting, quotechar, line_terminator, chunksize, date_format, doublequote, escapechar, errors, storage_options)\u001b[0m\n\u001b[1;32m   1103\u001b[0m             \u001b[0mformatter\u001b[0m\u001b[0;34m=\u001b[0m\u001b[0mself\u001b[0m\u001b[0;34m.\u001b[0m\u001b[0mfmt\u001b[0m\u001b[0;34m,\u001b[0m\u001b[0;34m\u001b[0m\u001b[0;34m\u001b[0m\u001b[0m\n\u001b[1;32m   1104\u001b[0m         )\n\u001b[0;32m-> 1105\u001b[0;31m         \u001b[0mcsv_formatter\u001b[0m\u001b[0;34m.\u001b[0m\u001b[0msave\u001b[0m\u001b[0;34m(\u001b[0m\u001b[0;34m)\u001b[0m\u001b[0;34m\u001b[0m\u001b[0;34m\u001b[0m\u001b[0m\n\u001b[0m\u001b[1;32m   1106\u001b[0m \u001b[0;34m\u001b[0m\u001b[0m\n\u001b[1;32m   1107\u001b[0m         \u001b[0;32mif\u001b[0m \u001b[0mcreated_buffer\u001b[0m\u001b[0;34m:\u001b[0m\u001b[0;34m\u001b[0m\u001b[0;34m\u001b[0m\u001b[0m\n",
      "\u001b[0;32m/opt/conda/lib/python3.7/site-packages/pandas/io/formats/csvs.py\u001b[0m in \u001b[0;36msave\u001b[0;34m(self)\u001b[0m\n\u001b[1;32m    241\u001b[0m             \u001b[0merrors\u001b[0m\u001b[0;34m=\u001b[0m\u001b[0mself\u001b[0m\u001b[0;34m.\u001b[0m\u001b[0merrors\u001b[0m\u001b[0;34m,\u001b[0m\u001b[0;34m\u001b[0m\u001b[0;34m\u001b[0m\u001b[0m\n\u001b[1;32m    242\u001b[0m             \u001b[0mcompression\u001b[0m\u001b[0;34m=\u001b[0m\u001b[0mself\u001b[0m\u001b[0;34m.\u001b[0m\u001b[0mcompression\u001b[0m\u001b[0;34m,\u001b[0m\u001b[0;34m\u001b[0m\u001b[0;34m\u001b[0m\u001b[0m\n\u001b[0;32m--> 243\u001b[0;31m             \u001b[0mstorage_options\u001b[0m\u001b[0;34m=\u001b[0m\u001b[0mself\u001b[0m\u001b[0;34m.\u001b[0m\u001b[0mstorage_options\u001b[0m\u001b[0;34m,\u001b[0m\u001b[0;34m\u001b[0m\u001b[0;34m\u001b[0m\u001b[0m\n\u001b[0m\u001b[1;32m    244\u001b[0m         ) as handles:\n\u001b[1;32m    245\u001b[0m \u001b[0;34m\u001b[0m\u001b[0m\n",
      "\u001b[0;32m/opt/conda/lib/python3.7/site-packages/pandas/io/common.py\u001b[0m in \u001b[0;36mget_handle\u001b[0;34m(path_or_buf, mode, encoding, compression, memory_map, is_text, errors, storage_options)\u001b[0m\n\u001b[1;32m    705\u001b[0m                 \u001b[0mencoding\u001b[0m\u001b[0;34m=\u001b[0m\u001b[0mioargs\u001b[0m\u001b[0;34m.\u001b[0m\u001b[0mencoding\u001b[0m\u001b[0;34m,\u001b[0m\u001b[0;34m\u001b[0m\u001b[0;34m\u001b[0m\u001b[0m\n\u001b[1;32m    706\u001b[0m                 \u001b[0merrors\u001b[0m\u001b[0;34m=\u001b[0m\u001b[0merrors\u001b[0m\u001b[0;34m,\u001b[0m\u001b[0;34m\u001b[0m\u001b[0;34m\u001b[0m\u001b[0m\n\u001b[0;32m--> 707\u001b[0;31m                 \u001b[0mnewline\u001b[0m\u001b[0;34m=\u001b[0m\u001b[0;34m\"\"\u001b[0m\u001b[0;34m,\u001b[0m\u001b[0;34m\u001b[0m\u001b[0;34m\u001b[0m\u001b[0m\n\u001b[0m\u001b[1;32m    708\u001b[0m             )\n\u001b[1;32m    709\u001b[0m         \u001b[0;32melse\u001b[0m\u001b[0;34m:\u001b[0m\u001b[0;34m\u001b[0m\u001b[0;34m\u001b[0m\u001b[0m\n",
      "\u001b[0;31mPermissionError\u001b[0m: [Errno 13] Permission denied: './clean/general.csv'"
     ]
    }
   ],
   "source": [
    "# Define the folder path for saving the CSV files\n",
    "folder_path = './clean/'\n",
    "\n",
    "# Define file paths for each dataframe within the \"clean\" folder\n",
    "filtered_df_general.toPandas().to_csv(folder_path + 'general.csv', index=False)\n",
    "filtered_df_biofuel.toPandas().to_csv(folder_path + 'biofuel.csv', index=False)\n",
    "filtered_df_coal.toPandas().to_csv(folder_path + 'coal.csv', index=False)\n",
    "filtered_df_gas.toPandas().to_csv(folder_path + 'gas.csv', index=False)\n",
    "filtered_df_oil.toPandas().to_csv(folder_path + 'oil.csv', index=False)\n",
    "filtered_df_fossil.toPandas().to_csv(folder_path + 'fossil.csv', index=False)\n",
    "filtered_df_greenhouse_gas.toPandas().to_csv(folder_path + 'greenhouse_gas.csv', index=False)\n",
    "filtered_df_hydro.toPandas().to_csv(folder_path + 'hydro.csv', index=False)\n",
    "filtered_df_nuclear.toPandas().to_csv(folder_path + 'nuclear.csv', index=False)\n",
    "filtered_df_renewables.toPandas().to_csv(folder_path + 'renewables.csv', index=False)\n",
    "filtered_df_solar.toPandas().to_csv(folder_path + 'solar.csv', index=False)\n",
    "filtered_df_wind.toPandas().to_csv(folder_path + 'wind.csv', index=False)\n",
    "filtered_df_other_renewables.toPandas().to_csv(folder_path + 'other_renewables.csv', index=False)\n",
    "filtered_df_low_carbon.toPandas().to_csv(folder_path + 'low_carbon.csv', index=False)\n",
    "filtered_df_electricity_imports.toPandas().to_csv(folder_path + 'electricity_imports.csv', index=False)"
   ]
  },
  {
   "cell_type": "code",
   "execution_count": 13,
   "id": "18b4d16c-b710-40fc-955c-862eb478b919",
   "metadata": {},
   "outputs": [],
   "source": [
    "# save to hive tables.\n",
    "filtered_df_general.write.mode(\"overwrite\").saveAsTable(\"wes.general\")\n",
    "filtered_df_biofuel.write.mode(\"overwrite\").saveAsTable(\"wes.biofuel\")\n",
    "filtered_df_coal.write.mode(\"overwrite\").saveAsTable(\"wes.coal\")\n",
    "filtered_df_gas.write.mode(\"overwrite\").saveAsTable(\"wes.gas\")\n",
    "filtered_df_oil.write.mode(\"overwrite\").saveAsTable(\"wes.oil\")\n",
    "filtered_df_fossil.write.mode(\"overwrite\").saveAsTable(\"wes.fossil\")\n",
    "filtered_df_greenhouse_gas.write.mode(\"overwrite\").saveAsTable(\"wes.greenhouse_gas\")\n",
    "filtered_df_hydro.write.mode(\"overwrite\").saveAsTable(\"wes.hydro\")\n",
    "filtered_df_nuclear.write.mode(\"overwrite\").saveAsTable(\"wes.nuclear\")\n",
    "filtered_df_renewables.write.mode(\"overwrite\").saveAsTable(\"wes.renewables\")\n",
    "filtered_df_solar.write.mode(\"overwrite\").saveAsTable(\"wes.solar\")\n",
    "filtered_df_wind.write.mode(\"overwrite\").saveAsTable(\"wes.wind\")\n",
    "filtered_df_other_renewables.write.mode(\"overwrite\").saveAsTable(\"wes.other_renewables\")\n",
    "filtered_df_low_carbon.write.mode(\"overwrite\").saveAsTable(\"wes.low_carbon\")\n",
    "filtered_df_electricity_imports.write.mode(\"overwrite\").saveAsTable(\"wes.electricity_imports\")\n"
   ]
  },
  {
   "cell_type": "code",
   "execution_count": 13,
   "id": "f66e8bbc-5e54-481f-a4c0-c81f8de297c6",
   "metadata": {},
   "outputs": [],
   "source": []
  },
  {
   "cell_type": "code",
   "execution_count": 14,
   "id": "0983f720-3e2f-4790-81f3-4bf300f6ad32",
   "metadata": {},
   "outputs": [
    {
     "name": "stdout",
     "output_type": "stream",
     "text": [
      "++\n",
      "||\n",
      "++\n",
      "++\n",
      "\n"
     ]
    }
   ],
   "source": [
    "run_spark_sql(\"combined_energy_data.sql\")"
   ]
  },
  {
   "cell_type": "code",
   "execution_count": 18,
   "id": "371296b1-c549-4b7b-ac96-0891fb4209b3",
   "metadata": {},
   "outputs": [
    {
     "name": "stdout",
     "output_type": "stream",
     "text": [
      "+----+---------------------+--------------------+------------------------+----------------------+------------------------+--------------------+----------------------+---------------------+\n",
      "|year|sum(coal_consumption)|sum(gas_consumption)|sum(biofuel_consumption)|sum(hydro_consumption)|sum(nuclear_consumption)|sum(oil_consumption)|sum(solar_consumption)|sum(wind_consumption)|\n",
      "+----+---------------------+--------------------+------------------------+----------------------+------------------------+--------------------+----------------------+---------------------+\n",
      "|1990|            18022.183|           11651.397|       90.53500000000001|              3758.196|                3423.739|           21585.775|                 1.111|                8.641|\n",
      "|2003|            24202.481|  14338.896999999999|                 158.912|     4482.544999999999|                4531.455|  25861.610999999997|    5.7669999999999995|               103.34|\n",
      "|2007|   32248.589999999997|  16171.619999999997|      342.48800000000006|              5335.361|                4766.174|  27383.046000000002|                19.271|              281.065|\n",
      "|2018|            35620.648|           22424.864|                 769.623|              7158.423|                4492.206|  30775.790999999997|              1143.605|   2389.9569999999994|\n",
      "|2015|            35972.833|           19733.599|                  700.09|              6797.924|                4198.477|  29111.618000000002|               445.985|   1473.1870000000001|\n",
      "|2006|            30304.493|            15300.58|                 269.024|              5234.805|                4884.738|           27255.767|    14.906999999999998|   217.51799999999997|\n",
      "|2022|            36871.835|  23453.809999999998|                 816.108|     7464.742999999999|                4678.691|  30754.234000000004|    2498.8639999999996|   3997.6960000000004|\n",
      "|2013|            36747.885|            19139.33|                 637.412|     6522.796999999999|                3977.776|  28326.892000000003|    203.20399999999998|   1130.4209999999998|\n",
      "|1997|   19852.949999999997|           12910.323|                  115.51|     4498.755999999999|                4109.894|  23973.293999999998|                 1.974|               22.299|\n",
      "|1994|   18965.792999999998|  12364.076000000001|                 112.656|              3984.151|      3878.6180000000004|           22499.506|                 1.609|   14.864999999999998|\n",
      "|2014|   36969.967000000004|           19538.723|       664.5799999999999|     6779.043000000001|                4074.416|           28576.405|    329.49300000000005|             1264.304|\n",
      "|2019|            35363.281|           22873.643|       805.7269999999999|     7444.302999999999|                4716.216|           31232.471|              1364.462|   2616.7439999999997|\n",
      "|2004|            26218.935|           14703.983|                 188.572|              4841.935|                4787.915|  26875.805999999997|                 7.621|              142.226|\n",
      "|1991|            17992.675|  11996.630999999998|                  94.457|    3839.4869999999996|                3599.072|           21642.264|    1.4289999999999998|                9.477|\n",
      "|1996|   19879.320000000003|           13080.897|                  112.65|              4395.397|                4167.155|  23377.564999999995|                 1.851|               18.739|\n",
      "|1998|            19791.909|           13047.734|                 119.252|              4451.146|       4227.530000000001|  23916.997000000003|                  2.12|               26.778|\n",
      "|2020|   34546.373999999996|           22839.517|                 748.151|              7580.457|      4646.2970000000005|           28972.931|              1610.621|   2905.8050000000003|\n",
      "|2012|            35855.204|           18647.247|                  571.12|              6380.457|                3942.214|  27885.626999999997|               139.456|    950.6179999999999|\n",
      "|2009|             32664.95|           16123.396|                 491.119|              5659.215|                4692.793|           26095.665|                 35.93|   475.21000000000004|\n",
      "|2016|   34904.153999999995|           20175.227|                 717.904|              6999.403|       4323.826000000001|  29653.849000000002|               600.977|             1780.962|\n",
      "+----+---------------------+--------------------+------------------------+----------------------+------------------------+--------------------+----------------------+---------------------+\n",
      "only showing top 20 rows\n",
      "\n"
     ]
    }
   ],
   "source": [
    "run_spark_sql(\"energy_breakdown_top10.sql\",\"insight-3.csv\")"
   ]
  }
 ],
 "metadata": {
  "kernelspec": {
   "display_name": "Python 3 (ipykernel)",
   "language": "python",
   "name": "python3"
  },
  "language_info": {
   "codemirror_mode": {
    "name": "ipython",
    "version": 3
   },
   "file_extension": ".py",
   "mimetype": "text/x-python",
   "name": "python",
   "nbconvert_exporter": "python",
   "pygments_lexer": "ipython3",
   "version": "3.7.12"
  }
 },
 "nbformat": 4,
 "nbformat_minor": 5
}
