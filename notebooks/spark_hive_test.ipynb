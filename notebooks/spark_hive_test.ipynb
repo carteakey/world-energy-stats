{
 "cells": [
  {
   "cell_type": "code",
   "execution_count": 1,
   "id": "d86408bc-8ac0-4a0a-a6bc-082e557f2e8a",
   "metadata": {},
   "outputs": [],
   "source": [
    "from pyspark.sql import SparkSession\n",
    "\n",
    "spark = SparkSession.builder \\\n",
    "    .appName(\"hive-test\") \\\n",
    "    .master(\"spark://spark-master:7077\")\\\n",
    "    .config(\"hive.metastore.uris\", \"thrift://hive-metastore:9083\") \\\n",
    "    .enableHiveSupport() \\\n",
    "    .getOrCreate()"
   ]
  },
  {
   "cell_type": "code",
   "execution_count": 9,
   "id": "c248a495-b267-4538-8d79-2c7d2e39c1de",
   "metadata": {},
   "outputs": [
    {
     "name": "stdout",
     "output_type": "stream",
     "text": [
      "hw3\n"
     ]
    }
   ],
   "source": [
    "#Use WES Database\n",
    "spark.sql(\"USE hw3\")\n",
    "current_db = spark.sql(\"SELECT current_database()\").collect()[0][0]\n",
    "print(current_db)"
   ]
  },
  {
   "cell_type": "code",
   "execution_count": null,
   "id": "50bb7553-7778-4770-8ac7-0f62ca855b3a",
   "metadata": {},
   "outputs": [],
   "source": [
    "# df = spark.read.csv(\"clean/world.csv\", header=True, inferSchema=True)"
   ]
  },
  {
   "cell_type": "code",
   "execution_count": 4,
   "id": "dc3d7773-5b32-436a-9389-7ff71bbefeff",
   "metadata": {},
   "outputs": [],
   "source": [
    "# df.write.saveAsTable(\"wes.world\")\n",
    "from utils import run_spark_sql"
   ]
  },
  {
   "cell_type": "code",
   "execution_count": 31,
   "id": "59daf2bf-49c9-4da7-b333-cb7abba2add1",
   "metadata": {},
   "outputs": [
    {
     "name": "stdout",
     "output_type": "stream",
     "text": [
      "+-------------+----------------+\n",
      "|   discipline|discipline_count|\n",
      "+-------------+----------------+\n",
      "|     Swimming|              40|\n",
      "|      Fencing|              20|\n",
      "|Cycling Track|              18|\n",
      "|      Archery|              16|\n",
      "|    Athletics|              16|\n",
      "+-------------+----------------+\n",
      "\n"
     ]
    },
    {
     "data": {
      "text/plain": [
       "[Row(rank=1, team='United States of America', gold=39, silver=41, bronze=33, total=113, total_rank=1),\n",
       " Row(rank=2, team=\"People's Republic of China\", gold=38, silver=32, bronze=18, total=88, total_rank=2),\n",
       " Row(rank=3, team='Japan', gold=27, silver=14, bronze=17, total=58, total_rank=5),\n",
       " Row(rank=4, team='Great Britain', gold=22, silver=21, bronze=22, total=65, total_rank=4),\n",
       " Row(rank=5, team='ROC', gold=20, silver=28, bronze=23, total=71, total_rank=3)]"
      ]
     },
     "execution_count": 31,
     "metadata": {},
     "output_type": "execute_result"
    }
   ],
   "source": [
    "\n",
    "sql = \"\"\"\n",
    "WITH gold_medals_by_discipline AS (\n",
    "    SELECT\n",
    "        t.discipline AS sport,\n",
    "        t.event,\n",
    "        COUNT(*) AS gold_medal_count\n",
    "    FROM hw3.teams t\n",
    "    JOIN hw3.medals m ON t.NOC = m.team\n",
    "    WHERE m.gold > 10\n",
    "    GROUP BY t.discipline, t.event\n",
    ")\n",
    "\n",
    "SELECT\n",
    "    sport,\n",
    "    event,\n",
    "    gold_medal_count\n",
    "FROM gold_medals_by_discipline\n",
    "ORDER BY gold_medal_count DESC\n",
    "LIMIT 5\n",
    "\"\"\"\n",
    "\n",
    "\n",
    "sql = \"\"\"\n",
    "SELECT t.discipline, COUNT(*) AS discipline_count\n",
    "FROM teams t\n",
    "JOIN medals m ON t.noc = m.team\n",
    "WHERE m.gold > 10\n",
    "GROUP BY t.discipline\n",
    "ORDER BY discipline_count DESC\n",
    "LIMIT 5;\n",
    "\"\"\"\n",
    "data = spark.sql(sql)\n",
    "data.show()\n",
    "\n",
    "# sql = \"SELECT * FROM teams\"\n",
    "# data = spark.sql(sql)\n",
    "# data.head(5)\n",
    "\n",
    "sql = \"SELECT * FROM medals\"\n",
    "data = spark.sql(sql)\n",
    "data.head(5)\n"
   ]
  },
  {
   "cell_type": "code",
   "execution_count": 36,
   "id": "3f0178e6-3dc0-4054-bb60-09dcae75053e",
   "metadata": {},
   "outputs": [
    {
     "name": "stdout",
     "output_type": "stream",
     "text": [
      "+--------------------+------------+-------------+\n",
      "|                team|total_medals|rank_by_total|\n",
      "+--------------------+------------+-------------+\n",
      "|United States of ...|         113|            1|\n",
      "|People's Republic...|          88|            2|\n",
      "|               Japan|          58|            3|\n",
      "|           Australia|          46|            4|\n",
      "|               Italy|          40|            5|\n",
      "|             Germany|          37|            6|\n",
      "|              France|          33|            7|\n",
      "|              Canada|          24|            8|\n",
      "|   Republic of Korea|          20|            9|\n",
      "|               Spain|          17|           10|\n",
      "|      Czech Republic|          11|           11|\n",
      "|              Serbia|           9|           12|\n",
      "|             Belgium|           7|           13|\n",
      "|Islamic Republic ...|           7|           13|\n",
      "|            Slovenia|           5|           15|\n",
      "|           Argentina|           3|           16|\n",
      "|             Nigeria|           2|           17|\n",
      "|         Puerto Rico|           1|           18|\n",
      "+--------------------+------------+-------------+\n",
      "\n"
     ]
    }
   ],
   "source": [
    "sql = \"\"\"\n",
    "-- Question 4: Return the list of countries and their rank by total who participate in the Basketball discipline\n",
    "WITH basketball_participation AS (\n",
    "    SELECT\n",
    "        DISTINCT\n",
    "        t.NOC AS team,\n",
    "        m.total AS total_medals\n",
    "    FROM hw3.teams t\n",
    "    LEFT JOIN hw3.medals m ON t.NOC = m.team\n",
    "    WHERE t.discipline = 'Basketball'\n",
    ")\n",
    "\n",
    "SELECT\n",
    "    team,\n",
    "    total_medals,\n",
    "    RANK() OVER (ORDER BY total_medals DESC) AS rank_by_total\n",
    "FROM basketball_participation\n",
    "ORDER BY rank_by_total;\n",
    "\"\"\"\n",
    "\n",
    "# sql = \"SELECT * FROM medals\"\n",
    "data = spark.sql(sql)\n",
    "data.show(30)\n",
    "\n"
   ]
  }
 ],
 "metadata": {
  "kernelspec": {
   "display_name": "Python 3 (ipykernel)",
   "language": "python",
   "name": "python3"
  },
  "language_info": {
   "codemirror_mode": {
    "name": "ipython",
    "version": 3
   },
   "file_extension": ".py",
   "mimetype": "text/x-python",
   "name": "python",
   "nbconvert_exporter": "python",
   "pygments_lexer": "ipython3",
   "version": "3.7.12"
  }
 },
 "nbformat": 4,
 "nbformat_minor": 5
}
