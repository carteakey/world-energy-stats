{
 "cells": [
  {
   "cell_type": "code",
   "execution_count": 2,
   "metadata": {},
   "outputs": [
    {
     "data": {
      "text/html": [
       "<div>\n",
       "<style scoped>\n",
       "    .dataframe tbody tr th:only-of-type {\n",
       "        vertical-align: middle;\n",
       "    }\n",
       "\n",
       "    .dataframe tbody tr th {\n",
       "        vertical-align: top;\n",
       "    }\n",
       "\n",
       "    .dataframe thead th {\n",
       "        text-align: right;\n",
       "    }\n",
       "</style>\n",
       "<table border=\"1\" class=\"dataframe\">\n",
       "  <thead>\n",
       "    <tr style=\"text-align: right;\">\n",
       "      <th></th>\n",
       "      <th>year</th>\n",
       "      <th>renewables_consumption</th>\n",
       "      <th>fossil_fuel_consumption</th>\n",
       "    </tr>\n",
       "  </thead>\n",
       "  <tbody>\n",
       "    <tr>\n",
       "      <th>0</th>\n",
       "      <td>1990</td>\n",
       "      <td>6863.432</td>\n",
       "      <td>83064.320</td>\n",
       "    </tr>\n",
       "    <tr>\n",
       "      <th>1</th>\n",
       "      <td>1991</td>\n",
       "      <td>7032.226</td>\n",
       "      <td>83294.062</td>\n",
       "    </tr>\n",
       "    <tr>\n",
       "      <th>2</th>\n",
       "      <td>1992</td>\n",
       "      <td>7059.343</td>\n",
       "      <td>83769.078</td>\n",
       "    </tr>\n",
       "    <tr>\n",
       "      <th>3</th>\n",
       "      <td>1993</td>\n",
       "      <td>7474.867</td>\n",
       "      <td>83915.758</td>\n",
       "    </tr>\n",
       "    <tr>\n",
       "      <th>4</th>\n",
       "      <td>1994</td>\n",
       "      <td>7548.948</td>\n",
       "      <td>84960.594</td>\n",
       "    </tr>\n",
       "  </tbody>\n",
       "</table>\n",
       "</div>"
      ],
      "text/plain": [
       "   year  renewables_consumption  fossil_fuel_consumption\n",
       "0  1990                6863.432                83064.320\n",
       "1  1991                7032.226                83294.062\n",
       "2  1992                7059.343                83769.078\n",
       "3  1993                7474.867                83915.758\n",
       "4  1994                7548.948                84960.594"
      ]
     },
     "execution_count": 2,
     "metadata": {},
     "output_type": "execute_result"
    }
   ],
   "source": [
    "import pandas as pd\n",
    "\n",
    "df = pd.read_csv(\"env/hadoop-hive-spark/notebooks/insight-1.csv\")\n",
    "\n",
    "df.head()"
   ]
  },
  {
   "cell_type": "code",
   "execution_count": 8,
   "metadata": {},
   "outputs": [
    {
     "ename": "SyntaxError",
     "evalue": "unterminated string literal (detected at line 25) (694234515.py, line 25)",
     "output_type": "error",
     "traceback": [
      "\u001b[0;36m  Cell \u001b[0;32mIn[8], line 25\u001b[0;36m\u001b[0m\n\u001b[0;31m    target_div ',\u001b[0m\n\u001b[0m               ^\u001b[0m\n\u001b[0;31mSyntaxError\u001b[0m\u001b[0;31m:\u001b[0m unterminated string literal (detected at line 25)\n"
     ]
    }
   ],
   "source": [
    "from highcharts_core.chart import Chart\n",
    "from highcharts_core.options import HighchartsOptions\n",
    "from highcharts_core.options.title import Title\n",
    "from highcharts_core.options.axes.x_axis import XAxis\n",
    "from highcharts_core.options.axes.y_axis import YAxis\n",
    "from highcharts_core.options.plot_options.scatter import ScatterOptions\n",
    "from highcharts_core.options.series.area import LineSeries\n",
    "from highcharts_core.options.axes.title import AxisTitle\n",
    "from highcharts_core.options.axes.accessibility import AxisAccessibility\n",
    "\n",
    "insight_1_a = LineSeries.from_pandas(\n",
    "    df,\n",
    "    series_type=\"line\",\n",
    "    property_map={\"y\": \"renewables_consumption\", \"x\": \"year\"},\n",
    ")\n",
    "\n",
    "insight_1_b = LineSeries.from_pandas(\n",
    "    df,\n",
    "    series_type=\"line\",\n",
    "    property_map={\"y\": \"fossil_fuel_consumption\", \"x\": \"year\"},\n",
    ")\n",
    "options = HighchartsOptions(\n",
    "    chart_kwargs = {container: 'target_div ', variable_name: 'myChart'},\n",
    "    title=Title(text=\"Trend of Energy Consumption over the years\"),\n",
    "    y_axis=YAxis(title=AxisTitle(text=\"Energy Consumption (Terawatt-hours)\")),\n",
    "    x_axis=XAxis(\n",
    "        accessibility=AxisAccessibility(range_description=\"Year: 1990 to 2022\")\n",
    "    ),\n",
    ")\n",
    "insight_1 = Chart.from_options(options)\n",
    "insight_1.add_series(insight_1_a, insight_1_b)\n",
    "insight_1.display()\n",
    "\n",
    "as_js_literal = insight_1.to_js_literal()\n",
    "print(as_js_literal)"
   ]
  },
  {
   "cell_type": "code",
   "execution_count": null,
   "metadata": {},
   "outputs": [],
   "source": []
  }
 ],
 "metadata": {
  "kernelspec": {
   "display_name": ".venv",
   "language": "python",
   "name": "python3"
  },
  "language_info": {
   "codemirror_mode": {
    "name": "ipython",
    "version": 3
   },
   "file_extension": ".py",
   "mimetype": "text/x-python",
   "name": "python",
   "nbconvert_exporter": "python",
   "pygments_lexer": "ipython3",
   "version": "3.11.6"
  }
 },
 "nbformat": 4,
 "nbformat_minor": 2
}
