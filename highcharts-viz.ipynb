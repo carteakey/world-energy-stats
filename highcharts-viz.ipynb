{
 "cells": [
  {
   "cell_type": "code",
   "execution_count": 6,
   "metadata": {},
   "outputs": [
    {
     "data": {
      "text/html": [
       "<div>\n",
       "<style scoped>\n",
       "    .dataframe tbody tr th:only-of-type {\n",
       "        vertical-align: middle;\n",
       "    }\n",
       "\n",
       "    .dataframe tbody tr th {\n",
       "        vertical-align: top;\n",
       "    }\n",
       "\n",
       "    .dataframe thead th {\n",
       "        text-align: right;\n",
       "    }\n",
       "</style>\n",
       "<table border=\"1\" class=\"dataframe\">\n",
       "  <thead>\n",
       "    <tr style=\"text-align: right;\">\n",
       "      <th></th>\n",
       "      <th>year</th>\n",
       "      <th>renewables_consumption</th>\n",
       "      <th>fossil_fuel_consumption</th>\n",
       "    </tr>\n",
       "  </thead>\n",
       "  <tbody>\n",
       "    <tr>\n",
       "      <th>0</th>\n",
       "      <td>1990</td>\n",
       "      <td>6863.432</td>\n",
       "      <td>83064.320</td>\n",
       "    </tr>\n",
       "    <tr>\n",
       "      <th>1</th>\n",
       "      <td>1991</td>\n",
       "      <td>7032.226</td>\n",
       "      <td>83294.062</td>\n",
       "    </tr>\n",
       "    <tr>\n",
       "      <th>2</th>\n",
       "      <td>1992</td>\n",
       "      <td>7059.343</td>\n",
       "      <td>83769.078</td>\n",
       "    </tr>\n",
       "    <tr>\n",
       "      <th>3</th>\n",
       "      <td>1993</td>\n",
       "      <td>7474.867</td>\n",
       "      <td>83915.758</td>\n",
       "    </tr>\n",
       "    <tr>\n",
       "      <th>4</th>\n",
       "      <td>1994</td>\n",
       "      <td>7548.948</td>\n",
       "      <td>84960.594</td>\n",
       "    </tr>\n",
       "  </tbody>\n",
       "</table>\n",
       "</div>"
      ],
      "text/plain": [
       "   year  renewables_consumption  fossil_fuel_consumption\n",
       "0  1990                6863.432                83064.320\n",
       "1  1991                7032.226                83294.062\n",
       "2  1992                7059.343                83769.078\n",
       "3  1993                7474.867                83915.758\n",
       "4  1994                7548.948                84960.594"
      ]
     },
     "execution_count": 6,
     "metadata": {},
     "output_type": "execute_result"
    }
   ],
   "source": [
    "import pandas as pd\n",
    "\n",
    "df = pd.read_csv(\"env/hadoop-hive-spark/notebooks/insight-1.csv\")\n",
    "\n",
    "df.head()"
   ]
  },
  {
   "cell_type": "code",
   "execution_count": 39,
   "metadata": {},
   "outputs": [
    {
     "data": {
      "text/html": [
       "<div id=\"highcharts_target_div_565P7D\" style=\"width:100%; height:400;\"></div>\n"
      ],
      "text/plain": [
       "<IPython.core.display.HTML object>"
      ]
     },
     "metadata": {},
     "output_type": "display_data"
    },
    {
     "data": {
      "application/javascript": "var has_requirejs = typeof requirejs !== 'undefined';\nif (has_requirejs) {\nrequire.config({\n  packages: [{\n    name: 'highcharts', main: 'highcharts' }],\n  paths: {\n    'highcharts': 'https://code.highcharts.com/'\n  }\n\n}); require(['highcharts', 'highcharts/modules/accessibility'], function (Highcharts) {\nfunction retryHighcharts(fn, container = 'highcharts_target_div', retries = 5, retriesLeft = 5, \n        interval = 1000) {\n            return new Promise((resolve, reject) => {\n            try {\n                fn()\n                return resolve();\n            } catch (err) {\n                if ((err instanceof ReferenceError) || (err instanceof TypeError) || (err.message.includes('#17'))) {\n                    if (retriesLeft === 0) {\n                        var target_div = document.getElementById(container);\n                        if (target_div) {\n                            var timeElapsed = (retries * interval) / 1000;\n                            var errorMessage = \"Something went wrong with the Highcharts.js script. It should have been automatically loaded, but it did not load for over \" + timeElapsed + \" seconds. Check your internet connection, and then if the problem persists please reach out for support. (You can also check your browser's console log for more details.)<br/><br/>Detailed Error Message:<br/>\" + err.message;\n                            var errorHTML = errorMessage;\n                            \n                            target_div.innerHTML = errorHTML;\n                            console.log(errorMessage);\n                            console.error(err);\n                        }\n                        return reject();\n                    }\n\n                    setTimeout(() => {\n                        retryHighcharts(fn, container, retries, retriesLeft - 1, interval).then(resolve).catch(reject);\n                    }, interval);\n                } else if ((err instanceof Error) && (err.message.includes('#13'))) {\n                    var errorMessage = \"It looks like the container specified '\" + container + \"' was not created successfully. Please check your browser's console log for more details.\";\n                    console.error(errorMessage);\n                    console.error(err);\n                    \n                    return reject();\n                } else {\n                    throw err;\n                }\n            }\n        });\n    };function insertChart_565P7D() {\n\nHighcharts.chart('highcharts_target_div_565P7D',\n{\n  series: [{\n  data: [[1990,\n6863.432],\n[1991,\n7032.226],\n[1992,\n7059.343],\n[1993,\n7474.867],\n[1994,\n7548.948],\n[1995,\n7956.042],\n[1996,\n8064.391],\n[1997,\n8241.819],\n[1998,\n8335.938],\n[1999,\n8437.115],\n[2000,\n8626.927],\n[2001,\n8417.771],\n[2002,\n8622.095],\n[2003,\n8650.36],\n[2004,\n9311.386],\n[2005,\n9684.451],\n[2006,\n10143.593],\n[2007,\n10505.478],\n[2008,\n11310.476],\n[2009,\n11558.073],\n[2010,\n12449.881],\n[2011,\n12999.631],\n[2012,\n13816.133],\n[2013,\n14704.658],\n[2014,\n15422.238],\n[2015,\n15977.102],\n[2016,\n16870.148],\n[2017,\n17858.443],\n[2018,\n18990.977],\n[2019,\n19985.84],\n[2020,\n21134.498],\n[2021,\n22323.965],\n[2022,\n23848.668]],\n  name: 'renewables_consumption',\n  type: 'line'\n},\n{\n  data: [[1990,\n83064.32],\n[1991,\n83294.062],\n[1992,\n83769.078],\n[1993,\n83915.758],\n[1994,\n84960.594],\n[1995,\n86531.617],\n[1996,\n89078.883],\n[1997,\n90023.977],\n[1998,\n90476.656],\n[1999,\n91940.5],\n[2000,\n94406.922],\n[2001,\n95559.0],\n[2002,\n97669.164],\n[2003,\n101887.992],\n[2004,\n106794.469],\n[2005,\n110509.383],\n[2006,\n113618.281],\n[2007,\n117489.945],\n[2008,\n118344.031],\n[2009,\n116038.727],\n[2010,\n121502.586],\n[2011,\n124557.797],\n[2012,\n126339.219],\n[2013,\n128002.844],\n[2014,\n128770.164],\n[2015,\n129421.867],\n[2016,\n130300.273],\n[2017,\n132517.438],\n[2018,\n135556.359],\n[2019,\n136105.719],\n[2020,\n129446.438],\n[2021,\n136585.125],\n[2022,\n137236.672]],\n  name: 'fossil_fuel_consumption',\n  type: 'line'\n}],\n  title: {\n  text: 'Trend of Energy Consumption over the years'\n},\n  xAxis: {\n  accessibility: {\n  rangeDescription: 'Year: 1990 to 2022'\n}\n},\n  yAxis: {\n  title: {\n  text: 'Energy Consumption (Terawatt-hours)'\n}\n}\n},\n);\n\n};\nretryHighcharts(insertChart_565P7D, 'highcharts_target_div_565P7D', 5, 5, 1000);\n});\n} else {\nnew Promise(function(resolve, reject) {\n  var existing_tags = document.querySelectorAll(\"script[src='https://code.highcharts.com/highcharts.js']\");  if (existing_tags.length == 0) {\n            var script = document.createElement(\"script\");\n            script.onload = resolve;\n            script.onerror = reject;        script.src = 'https://code.highcharts.com/highcharts.js';        document.head.appendChild(script);\n        } else { resolve() };\n    }).then(() => {new Promise(function(resolve, reject) {\n  var existing_tags = document.querySelectorAll(\"script[src='https://code.highcharts.com/modules/accessibility.js']\");  if (existing_tags.length == 0) {\n            var script = document.createElement(\"script\");\n            script.onload = resolve;\n            script.onerror = reject;        script.src = 'https://code.highcharts.com/modules/accessibility.js';        document.head.appendChild(script);\n        } else { resolve() };\n    }).then(() => {});});\n};",
      "text/plain": [
       "<IPython.core.display.Javascript object>"
      ]
     },
     "metadata": {},
     "output_type": "display_data"
    },
    {
     "data": {
      "application/javascript": "var has_requirejs = typeof requirejs !== 'undefined';\nif (has_requirejs) {\n\n} else {\nfunction retryHighcharts(fn, container = 'highcharts_target_div', retries = 5, retriesLeft = 5, \n        interval = 1000) {\n            return new Promise((resolve, reject) => {\n            try {\n                fn()\n                return resolve();\n            } catch (err) {\n                if ((err instanceof ReferenceError) || (err instanceof TypeError) || (err.message.includes('#17'))) {\n                    if (retriesLeft === 0) {\n                        var target_div = document.getElementById(container);\n                        if (target_div) {\n                            var timeElapsed = (retries * interval) / 1000;\n                            var errorMessage = \"Something went wrong with the Highcharts.js script. It should have been automatically loaded, but it did not load for over \" + timeElapsed + \" seconds. Check your internet connection, and then if the problem persists please reach out for support. (You can also check your browser's console log for more details.)<br/><br/>Detailed Error Message:<br/>\" + err.message;\n                            var errorHTML = errorMessage;\n                            \n                            target_div.innerHTML = errorHTML;\n                            console.log(errorMessage);\n                            console.error(err);\n                        }\n                        return reject();\n                    }\n\n                    setTimeout(() => {\n                        retryHighcharts(fn, container, retries, retriesLeft - 1, interval).then(resolve).catch(reject);\n                    }, interval);\n                } else if ((err instanceof Error) && (err.message.includes('#13'))) {\n                    var errorMessage = \"It looks like the container specified '\" + container + \"' was not created successfully. Please check your browser's console log for more details.\";\n                    console.error(errorMessage);\n                    console.error(err);\n                    \n                    return reject();\n                } else {\n                    throw err;\n                }\n            }\n        });\n    };function insertChart_565P7D() {\n\nHighcharts.chart('highcharts_target_div_565P7D',\n{\n  series: [{\n  data: [[1990,\n6863.432],\n[1991,\n7032.226],\n[1992,\n7059.343],\n[1993,\n7474.867],\n[1994,\n7548.948],\n[1995,\n7956.042],\n[1996,\n8064.391],\n[1997,\n8241.819],\n[1998,\n8335.938],\n[1999,\n8437.115],\n[2000,\n8626.927],\n[2001,\n8417.771],\n[2002,\n8622.095],\n[2003,\n8650.36],\n[2004,\n9311.386],\n[2005,\n9684.451],\n[2006,\n10143.593],\n[2007,\n10505.478],\n[2008,\n11310.476],\n[2009,\n11558.073],\n[2010,\n12449.881],\n[2011,\n12999.631],\n[2012,\n13816.133],\n[2013,\n14704.658],\n[2014,\n15422.238],\n[2015,\n15977.102],\n[2016,\n16870.148],\n[2017,\n17858.443],\n[2018,\n18990.977],\n[2019,\n19985.84],\n[2020,\n21134.498],\n[2021,\n22323.965],\n[2022,\n23848.668]],\n  name: 'renewables_consumption',\n  type: 'line'\n},\n{\n  data: [[1990,\n83064.32],\n[1991,\n83294.062],\n[1992,\n83769.078],\n[1993,\n83915.758],\n[1994,\n84960.594],\n[1995,\n86531.617],\n[1996,\n89078.883],\n[1997,\n90023.977],\n[1998,\n90476.656],\n[1999,\n91940.5],\n[2000,\n94406.922],\n[2001,\n95559.0],\n[2002,\n97669.164],\n[2003,\n101887.992],\n[2004,\n106794.469],\n[2005,\n110509.383],\n[2006,\n113618.281],\n[2007,\n117489.945],\n[2008,\n118344.031],\n[2009,\n116038.727],\n[2010,\n121502.586],\n[2011,\n124557.797],\n[2012,\n126339.219],\n[2013,\n128002.844],\n[2014,\n128770.164],\n[2015,\n129421.867],\n[2016,\n130300.273],\n[2017,\n132517.438],\n[2018,\n135556.359],\n[2019,\n136105.719],\n[2020,\n129446.438],\n[2021,\n136585.125],\n[2022,\n137236.672]],\n  name: 'fossil_fuel_consumption',\n  type: 'line'\n}],\n  title: {\n  text: 'Trend of Energy Consumption over the years'\n},\n  xAxis: {\n  accessibility: {\n  rangeDescription: 'Year: 1990 to 2022'\n}\n},\n  yAxis: {\n  title: {\n  text: 'Energy Consumption (Terawatt-hours)'\n}\n}\n},\n);\n\n};\nretryHighcharts(insertChart_565P7D, 'highcharts_target_div_565P7D', 5, 5, 1000);\n};",
      "text/plain": [
       "<IPython.core.display.Javascript object>"
      ]
     },
     "metadata": {},
     "output_type": "display_data"
    }
   ],
   "source": [
    "from highcharts_core.chart import Chart\n",
    "from highcharts_core.options import HighchartsOptions\n",
    "from highcharts_core.options.title import Title\n",
    "from highcharts_core.options.axes.x_axis import XAxis\n",
    "from highcharts_core.options.axes.y_axis import YAxis\n",
    "from highcharts_core.options.plot_options.scatter import ScatterOptions\n",
    "from highcharts_core.options.series.area import LineSeries\n",
    "from highcharts_core.options.axes.title import AxisTitle\n",
    "from highcharts_core.options.axes.accessibility import AxisAccessibility\n",
    "\n",
    "insight_1_a = LineSeries.from_pandas(\n",
    "    df,\n",
    "    series_type=\"line\",\n",
    "    property_map={\"y\": \"renewables_consumption\", \"x\": \"year\"},\n",
    ")\n",
    "\n",
    "insight_1_b = LineSeries.from_pandas(\n",
    "    df,\n",
    "    series_type=\"line\",\n",
    "    property_map={\"y\": \"fossil_fuel_consumption\", \"x\": \"year\"},\n",
    ")\n",
    "options = HighchartsOptions(\n",
    "    title=Title(text=\"Trend of Energy Consumption over the years\"),\n",
    "    y_axis=YAxis(title=AxisTitle(text=\"Energy Consumption (Terawatt-hours)\")),\n",
    "    x_axis=XAxis(\n",
    "        accessibility=AxisAccessibility(range_description=\"Year: 1990 to 2022\")\n",
    "    ),\n",
    ")\n",
    "insight_1 = Chart.from_options(options)\n",
    "insight_1.add_series(insight_1_a, insight_1_b)\n",
    "insight_1.display()"
   ]
  }
 ],
 "metadata": {
  "kernelspec": {
   "display_name": ".venv",
   "language": "python",
   "name": "python3"
  },
  "language_info": {
   "codemirror_mode": {
    "name": "ipython",
    "version": 3
   },
   "file_extension": ".py",
   "mimetype": "text/x-python",
   "name": "python",
   "nbconvert_exporter": "python",
   "pygments_lexer": "ipython3",
   "version": "3.11.6"
  }
 },
 "nbformat": 4,
 "nbformat_minor": 2
}
