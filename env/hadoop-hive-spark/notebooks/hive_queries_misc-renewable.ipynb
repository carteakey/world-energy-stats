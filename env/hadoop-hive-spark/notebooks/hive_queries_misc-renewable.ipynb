{
 "cells": [
  {
   "cell_type": "code",
   "execution_count": null,
   "id": "688126d8-f555-46c6-b1f2-8e66a9bd8238",
   "metadata": {},
   "outputs": [],
   "source": [
    "from pyspark.sql import SparkSession\n",
    "\n",
    "spark = SparkSession.builder \\\n",
    "    .appName(\"hive-queries\") \\\n",
    "    .master(\"spark://spark-master:7077\")\\\n",
    "    .config(\"hive.metastore.uris\", \"thrift://hive-metastore:9083\") \\\n",
    "    .enableHiveSupport() \\\n",
    "    .getOrCreate()\n",
    "\n",
    "# spark.stop()"
   ]
  },
  {
   "cell_type": "code",
   "execution_count": null,
   "id": "099e0589-978c-41e5-aad7-eaac7641c008",
   "metadata": {},
   "outputs": [],
   "source": [
    "#Use WES Database\n",
    "spark.sql(\"USE wes\")\n",
    "current_db = spark.sql(\"SELECT current_database()\").collect()[0][0]\n",
    "print(current_db)"
   ]
  },
  {
   "cell_type": "code",
   "execution_count": null,
   "id": "d86409cf-9548-4228-80ef-0fa17a2bb137",
   "metadata": {},
   "outputs": [],
   "source": [
    "df_insight_1 = spark.sql(\"select year,renewables_consumption,fossil_fuel_consumption from wes.world\")\n",
    "\n",
    "df_insight_1.show()\n",
    "\n",
    "df_insight_1.toPandas().to_csv(\"insight-1.csv\", index=False)\n"
   ]
  },
  {
   "cell_type": "code",
   "execution_count": null,
   "id": "b8182429-6395-43e7-9660-538b8e53b7e2",
   "metadata": {},
   "outputs": [],
   "source": [
    "# Countries that majorly depend on renewables\n",
    "query_renewables_majority = \"\"\"\n",
    "    SELECT country, year, renewables_consumption, fossil_fuel_consumption\n",
    "    FROM wes.renewable\n",
    "\n",
    "\"\"\"\n",
    "\n",
    "# Execute the query for renewables-majority countries\n",
    "df_renewables_majority = spark.sql(query_renewables_majority)\n",
    "\n",
    "# Show the results for renewables-majority countries\n",
    "df_renewables_majority.show()\n",
    "\n",
    "# Save the results for renewables-majority countries to a CSV file\n",
    "df_renewables_majority.toPandas().to_csv(\"renewables_majority.csv\", index=False)"
   ]
  },
  {
   "cell_type": "code",
   "execution_count": null,
   "id": "97ec7760-a13e-4b24-8290-077f64f796a4",
   "metadata": {},
   "outputs": [],
   "source": [
    "# Use the WES database\n",
    "spark.sql(\"USE wes\")\n",
    "\n",
    "# Query to get the required data for countries majorly depending on renewables\n",
    "query_renewables_majority = \"\"\"\n",
    "    SELECT country, year, renewables_share_elec, renewables_consumption, renewables_electricity\n",
    "    FROM wes.renewable\n",
    "    WHERE renewables_share_elec IS NOT NULL\n",
    "        AND renewables_share_elec > 0.5\n",
    "\"\"\"\n",
    "\n",
    "# Execute the query for renewables-majority countries\n",
    "df_renewables_majority = spark.sql(query_renewables_majority)\n",
    "\n",
    "# Show the results for renewables-majority countries\n",
    "df_renewables_majority.show()\n",
    "\n",
    "# Save the results for renewables-majority countries to a CSV file\n",
    "df_renewables_majority.toPandas().to_csv(\"renewables_majority2.csv\", index=False)\n"
   ]
  },
  {
   "cell_type": "code",
   "execution_count": null,
   "id": "42bbba8e-5b71-4765-a9d3-dc6e7ba5cfa5",
   "metadata": {},
   "outputs": [],
   "source": [
    "# Use the WES database\n",
    "spark.sql(\"USE wes\")\n",
    "\n",
    "# Query to get the required data for countries majorly depending on renewables\n",
    "query_renewables_majority = \"\"\"\n",
    "    SELECT country, year, renewables_share_elec, renewables_consumption, renewables_electricity\n",
    "    FROM wes.world\n",
    "    WHERE renewables_share_elec IS NOT NULL\n",
    "        AND renewables_share_elec > 0.5\n",
    "\n",
    "    ORDER BY renewables_share_elec DESC\n",
    "\"\"\"\n",
    "\n",
    "# Execute the query for renewables-majority countries\n",
    "df_renewables_majority = spark.sql(query_renewables_majority)\n",
    "\n",
    "# Show the results for renewables-majority countries\n",
    "df_renewables_majority.show()\n",
    "\n",
    "# Save the results for renewables-majority countries to a CSV file\n",
    "df_renewables_majority.toPandas().to_csv(\"renewables_majority4.csv\", index=False)"
   ]
  },
  {
   "cell_type": "code",
   "execution_count": null,
   "id": "e8c6c680-0d55-4097-b877-5bc56c469e27",
   "metadata": {},
   "outputs": [],
   "source": [
    "spark.sql(\"\"\"CREATE VIEW combined_energy_data AS\n",
    "SELECT \n",
    "    gen.*,\n",
    "    bio.biofuel_consumption, bio.biofuel_electricity, bio.biofuel_share_elec, bio.biofuel_share_energy,\n",
    "    coa.coal_consumption, coa.coal_electricity, coa.coal_production, coa.coal_share_elec, coa.coal_share_energy,\n",
    "    gas.gas_consumption, gas.gas_electricity, gas.gas_production, gas.gas_share_elec, gas.gas_share_energy,\n",
    "    oil.oil_consumption, oil.oil_electricity, oil.oil_production, oil.oil_share_elec, oil.oil_share_energy,\n",
    "    foss.fossil_electricity, foss.fossil_fuel_consumption, foss.fossil_share_elec, foss.fossil_share_energy, foss.carbon_intensity_elec,\n",
    "    ghg.greenhouse_gas_emissions,\n",
    "    hydr.hydro_consumption, hydr.hydro_electricity, hydr.hydro_share_elec, hydr.hydro_share_energy,\n",
    "    nuc.nuclear_consumption, nuc.nuclear_electricity, nuc.nuclear_share_elec, nuc.nuclear_share_energy,\n",
    "    rene.renewables_consumption, rene.renewables_electricity, rene.renewables_share_elec, rene.renewables_share_energy,\n",
    "    sol.solar_consumption, sol.solar_electricity, sol.solar_share_elec, sol.solar_share_energy,\n",
    "    win.wind_consumption, win.wind_electricity, win.wind_share_elec, win.wind_share_energy,\n",
    "    oth.other_renewable_consumption, oth.other_renewable_electricity, oth.other_renewable_exc_biofuel_electricity, oth.other_renewables_share_elec, oth.other_renewables_share_elec_exc_biofuel, oth.other_renewables_share_energy,\n",
    "    lowc.low_carbon_consumption, lowc.low_carbon_electricity, lowc.low_carbon_share_elec, lowc.low_carbon_share_energy,\n",
    "    elec_imports.net_elec_imports, elec_imports.net_elec_imports_share_demand\n",
    "FROM \n",
    "    general gen\n",
    "INNER JOIN biofuel bio ON gen.country = bio.country AND gen.year = bio.year AND gen.iso_code = bio.iso_code\n",
    "INNER JOIN coal coa ON gen.country = coa.country AND gen.year = coa.year AND gen.iso_code = coa.iso_code\n",
    "INNER JOIN gas ON gen.country = gas.country AND gen.year = gas.year AND gen.iso_code = gas.iso_code\n",
    "INNER JOIN oil ON gen.country = oil.country AND gen.year = oil.year AND gen.iso_code = oil.iso_code\n",
    "INNER JOIN fossil foss ON gen.country = foss.country AND gen.year = foss.year AND gen.iso_code = foss.iso_code\n",
    "INNER JOIN greenhouse_gas ghg ON gen.country = ghg.country AND gen.year = ghg.year AND gen.iso_code = ghg.iso_code\n",
    "INNER JOIN hydro hydr ON gen.country = hydr.country AND gen.year = hydr.year AND gen.iso_code = hydr.iso_code\n",
    "INNER JOIN nuclear nuc ON gen.country = nuc.country AND gen.year = nuc.year AND gen.iso_code = nuc.iso_code\n",
    "INNER JOIN renewables rene ON gen.country = rene.country AND gen.year = rene.year AND gen.iso_code = rene.iso_code\n",
    "INNER JOIN solar sol ON gen.country = sol.country AND gen.year = sol.year AND gen.iso_code = sol.iso_code\n",
    "INNER JOIN wind win ON gen.country = win.country AND gen.year = win.year AND gen.iso_code = win.iso_code\n",
    "INNER JOIN other_renewables oth ON gen.country = oth.country AND gen.year = oth.year AND gen.iso_code = oth.iso_code\n",
    "INNER JOIN low_carbon lowc ON gen.country = lowc.country AND gen.year = lowc.year AND gen.iso_code = lowc.iso_code\n",
    "INNER JOIN electricity_imports elec_imports  ON gen.country = elec_imports.country AND gen.year = elec_imports.year AND gen.iso_code = elec_imports.iso_code;\n",
    "\"\"\")\n"
   ]
  },
  {
   "cell_type": "code",
   "execution_count": null,
   "id": "c8aab6bc-0788-4073-a767-a603579c0c9d",
   "metadata": {},
   "outputs": [],
   "source": [
    "spark.sql (\"SELECT * from combined_energy_data\")"
   ]
  },
  {
   "cell_type": "code",
   "execution_count": null,
   "id": "ed49eacc-a1a6-44d4-8628-bca32d87ce0f",
   "metadata": {},
   "outputs": [],
   "source": [
    "columnNames = spark.sql(\"SELECT * FROM combined_energy_data\").columns\n",
    "for columnName in columnNames:\n",
    "    print(columnName)"
   ]
  },
  {
   "cell_type": "code",
   "execution_count": null,
   "id": "c75f0f8a-fb93-4e2e-967b-6ffeddaa70ec",
   "metadata": {},
   "outputs": [],
   "source": []
  }
 ],
 "metadata": {
  "kernelspec": {
   "display_name": "Python 3 (ipykernel)",
   "language": "python",
   "name": "python3"
  },
  "language_info": {
   "codemirror_mode": {
    "name": "ipython",
    "version": 3
   },
   "file_extension": ".py",
   "mimetype": "text/x-python",
   "name": "python",
   "nbconvert_exporter": "python",
   "pygments_lexer": "ipython3",
   "version": "3.7.12"
  }
 },
 "nbformat": 4,
 "nbformat_minor": 5
}
