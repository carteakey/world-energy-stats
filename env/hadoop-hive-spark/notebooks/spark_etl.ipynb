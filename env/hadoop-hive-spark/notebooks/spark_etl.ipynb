{
 "cells": [
  {
   "cell_type": "code",
   "execution_count": null,
   "id": "a6f543c6-fc4e-419f-97b2-926a95537231",
   "metadata": {},
   "outputs": [],
   "source": [
    "from pyspark.sql import SparkSession\n",
    "\n",
    "# Spark session & context\n",
    "spark = SparkSession.builder.appName(\"world-energy-stats\").master(\"spark://spark-master:7077\").getOrCreate()\n",
    "sc = spark.sparkContext\n",
    "\n",
    "# Sum of the first 100 whole numbers\n",
    "rdd = sc.parallelize(range(100 + 1))\n",
    "rdd.sum()\n",
    "# 5050"
   ]
  },
  {
   "cell_type": "code",
   "execution_count": null,
   "id": "adfbf750-99a1-42f9-9812-d0f5142d7617",
   "metadata": {},
   "outputs": [],
   "source": [
    "df = (spark.read\n",
    "  .format(\"csv\")\n",
    "  .option(\"header\", \"true\")\n",
    "  .option(\"inferSchema\", \"true\")\n",
    "   .load(\"hdfs://namenode:9000/energy-data/owid-energy-data.csv\"))"
   ]
  },
  {
   "cell_type": "code",
   "execution_count": null,
   "id": "649686bc-7b88-4a86-9da1-25391b9935f5",
   "metadata": {},
   "outputs": [],
   "source": [
    "df.head()"
   ]
  },
  {
   "cell_type": "code",
   "execution_count": null,
   "id": "cecc992f-2a4e-4cc4-ade6-af50e453ca75",
   "metadata": {},
   "outputs": [],
   "source": [
    "df = df[df['year'] >=1990]\n",
    "\n",
    "#40 years of data\n",
    "grouped_df = df.groupBy(\"year\").count().orderBy(\"year\")\n",
    "grouped_df.show(40)\n"
   ]
  },
  {
   "cell_type": "code",
   "execution_count": null,
   "id": "2b263e1f-7b78-4c65-9ce4-acca1782673a",
   "metadata": {},
   "outputs": [],
   "source": [
    "# Dropping irrelevant columns\n",
    "cols_to_drop = [col for col in df.columns if '_per_capita' in col or '_change_pct' in col or '_change_twh' in col]\n",
    "df = df.drop(*cols_to_drop)\n",
    "\n",
    "# Show the updated DataFrame\n",
    "df.show(n=2)"
   ]
  },
  {
   "cell_type": "code",
   "execution_count": null,
   "id": "53105243-1cc0-4df7-aaa0-f31e268ae857",
   "metadata": {},
   "outputs": [],
   "source": []
  }
 ],
 "metadata": {
  "kernelspec": {
   "display_name": "Python 3 (ipykernel)",
   "language": "python",
   "name": "python3"
  },
  "language_info": {
   "codemirror_mode": {
    "name": "ipython",
    "version": 3
   },
   "file_extension": ".py",
   "mimetype": "text/x-python",
   "name": "python",
   "nbconvert_exporter": "python",
   "pygments_lexer": "ipython3",
   "version": "3.11.6"
  }
 },
 "nbformat": 4,
 "nbformat_minor": 5
}
