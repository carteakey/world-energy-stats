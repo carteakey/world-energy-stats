{
 "cells": [
  {
   "cell_type": "code",
   "execution_count": 1,
   "id": "688126d8-f555-46c6-b1f2-8e66a9bd8238",
   "metadata": {},
   "outputs": [],
   "source": [
    "from pyspark.sql import SparkSession\n",
    "\n",
    "spark = SparkSession.builder \\\n",
    "    .appName(\"hive-queries\") \\\n",
    "    .master(\"spark://spark-master:7077\")\\\n",
    "    .config(\"hive.metastore.uris\", \"thrift://hive-metastore:9083\") \\\n",
    "    .enableHiveSupport() \\\n",
    "    .getOrCreate()\n",
    "\n",
    "# spark.stop()"
   ]
  },
  {
   "cell_type": "code",
   "execution_count": 2,
   "id": "099e0589-978c-41e5-aad7-eaac7641c008",
   "metadata": {},
   "outputs": [
    {
     "name": "stdout",
     "output_type": "stream",
     "text": [
      "wes\n"
     ]
    }
   ],
   "source": [
    "#Use WES Database\n",
    "spark.sql(\"USE wes\")\n",
    "current_db = spark.sql(\"SELECT current_database()\").collect()[0][0]\n",
    "print(current_db)"
   ]
  },
  {
   "cell_type": "code",
   "execution_count": 18,
   "id": "d86409cf-9548-4228-80ef-0fa17a2bb137",
   "metadata": {},
   "outputs": [
    {
     "name": "stdout",
     "output_type": "stream",
     "text": [
      "+----+----------------------+-----------------------+\n",
      "|year|renewables_consumption|fossil_fuel_consumption|\n",
      "+----+----------------------+-----------------------+\n",
      "|1990|              6863.432|               83064.32|\n",
      "|1991|              7032.226|              83294.062|\n",
      "|1992|              7059.343|              83769.078|\n",
      "|1993|              7474.867|              83915.758|\n",
      "|1994|              7548.948|              84960.594|\n",
      "|1995|              7956.042|              86531.617|\n",
      "|1996|              8064.391|              89078.883|\n",
      "|1997|              8241.819|              90023.977|\n",
      "|1998|              8335.938|              90476.656|\n",
      "|1999|              8437.115|                91940.5|\n",
      "|2000|              8626.927|              94406.922|\n",
      "|2001|              8417.771|                95559.0|\n",
      "|2002|              8622.095|              97669.164|\n",
      "|2003|               8650.36|             101887.992|\n",
      "|2004|              9311.386|             106794.469|\n",
      "|2005|              9684.451|             110509.383|\n",
      "|2006|             10143.593|             113618.281|\n",
      "|2007|             10505.478|             117489.945|\n",
      "|2008|             11310.476|             118344.031|\n",
      "|2009|             11558.073|             116038.727|\n",
      "+----+----------------------+-----------------------+\n",
      "only showing top 20 rows\n",
      "\n"
     ]
    }
   ],
   "source": [
    "df_insight_1 = spark.sql(\"select year,renewables_consumption,fossil_fuel_consumption from wes.world\")\n",
    "\n",
    "df_insight_1.show()\n",
    "\n",
    "df_insight_1.toPandas().to_csv(\"insight-1.csv\", index=False)\n"
   ]
  },
  {
   "cell_type": "code",
   "execution_count": 17,
   "id": "b8182429-6395-43e7-9660-538b8e53b7e2",
   "metadata": {},
   "outputs": [],
   "source": []
  }
 ],
 "metadata": {
  "kernelspec": {
   "display_name": "Python 3 (ipykernel)",
   "language": "python",
   "name": "python3"
  },
  "language_info": {
   "codemirror_mode": {
    "name": "ipython",
    "version": 3
   },
   "file_extension": ".py",
   "mimetype": "text/x-python",
   "name": "python",
   "nbconvert_exporter": "python",
   "pygments_lexer": "ipython3",
   "version": "3.7.12"
  }
 },
 "nbformat": 4,
 "nbformat_minor": 5
}
