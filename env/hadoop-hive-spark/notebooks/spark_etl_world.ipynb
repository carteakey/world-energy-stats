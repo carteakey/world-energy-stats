{
 "cells": [
  {
   "cell_type": "code",
   "execution_count": 1,
   "id": "a6f543c6-fc4e-419f-97b2-926a95537231",
   "metadata": {},
   "outputs": [],
   "source": [
    "from pyspark.sql import SparkSession\n",
    "\n",
    "# Spark session & context\n",
    "# spark = SparkSession.builder.appName(\"world-energy-stats\").master(\"spark://spark-master:7077\").getOrCreate()\n",
    "\n",
    "#Local Development\n",
    "spark = SparkSession.builder.appName(\"world-energy-stats\").master(\"local\").getOrCreate()\n"
   ]
  },
  {
   "cell_type": "code",
   "execution_count": 2,
   "id": "adfbf750-99a1-42f9-9812-d0f5142d7617",
   "metadata": {},
   "outputs": [],
   "source": [
    "# df = (spark.read\n",
    "#   .format(\"csv\")\n",
    "#   .option(\"header\", \"true\")\n",
    "#   .option(\"inferSchema\", \"true\")\n",
    "#    .load(\"hdfs://namenode:9000/energy-data/owid-energy-data.csv\"))\n",
    "\n",
    "df = spark.read.csv(\"owid-energy-data.csv\", header=True, inferSchema=True)"
   ]
  },
  {
   "cell_type": "code",
   "execution_count": 3,
   "id": "649686bc-7b88-4a86-9da1-25391b9935f5",
   "metadata": {},
   "outputs": [
    {
     "data": {
      "text/plain": [
       "Row(country='ASEAN (Ember)', year=2000, iso_code=None, population=None, gdp=None, biofuel_cons_change_pct=None, biofuel_cons_change_twh=None, biofuel_cons_per_capita=None, biofuel_consumption=None, biofuel_elec_per_capita=None, biofuel_electricity=5.6, biofuel_share_elec=1.519, biofuel_share_energy=None, carbon_intensity_elec=500.231, coal_cons_change_pct=None, coal_cons_change_twh=None, coal_cons_per_capita=None, coal_consumption=None, coal_elec_per_capita=None, coal_electricity=71.03, coal_prod_change_pct=None, coal_prod_change_twh=None, coal_prod_per_capita=None, coal_production=None, coal_share_elec=19.268, coal_share_energy=None, electricity_demand=368.65, electricity_generation=368.65, electricity_share_energy=None, energy_cons_change_pct=None, energy_cons_change_twh=None, energy_per_capita=None, energy_per_gdp=None, fossil_cons_change_pct=None, fossil_cons_change_twh=None, fossil_elec_per_capita=None, fossil_electricity=295.75, fossil_energy_per_capita=None, fossil_fuel_consumption=None, fossil_share_elec=80.225, fossil_share_energy=None, gas_cons_change_pct=None, gas_cons_change_twh=None, gas_consumption=None, gas_elec_per_capita=None, gas_electricity=163.22, gas_energy_per_capita=None, gas_prod_change_pct=None, gas_prod_change_twh=None, gas_prod_per_capita=None, gas_production=None, gas_share_elec=44.275, gas_share_energy=None, greenhouse_gas_emissions=184.41, hydro_cons_change_pct=None, hydro_cons_change_twh=None, hydro_consumption=None, hydro_elec_per_capita=None, hydro_electricity=50.37, hydro_energy_per_capita=None, hydro_share_elec=13.663, hydro_share_energy=None, low_carbon_cons_change_pct=None, low_carbon_cons_change_twh=None, low_carbon_consumption=None, low_carbon_elec_per_capita=None, low_carbon_electricity=72.9, low_carbon_energy_per_capita=None, low_carbon_share_elec=19.775, low_carbon_share_energy=None, net_elec_imports=None, net_elec_imports_share_demand=None, nuclear_cons_change_pct=None, nuclear_cons_change_twh=None, nuclear_consumption=None, nuclear_elec_per_capita=None, nuclear_electricity=0.0, nuclear_energy_per_capita=None, nuclear_share_elec=0.0, nuclear_share_energy=None, oil_cons_change_pct=None, oil_cons_change_twh=None, oil_consumption=None, oil_elec_per_capita=None, oil_electricity=61.5, oil_energy_per_capita=None, oil_prod_change_pct=None, oil_prod_change_twh=None, oil_prod_per_capita=None, oil_production=None, oil_share_elec=16.682, oil_share_energy=None, other_renewable_consumption=None, other_renewable_electricity=22.53, other_renewable_exc_biofuel_electricity=16.93, other_renewables_cons_change_pct=None, other_renewables_cons_change_twh=None, other_renewables_elec_per_capita=None, other_renewables_elec_per_capita_exc_biofuel=None, other_renewables_energy_per_capita=None, other_renewables_share_elec=6.111, other_renewables_share_elec_exc_biofuel=4.592, other_renewables_share_energy=None, per_capita_electricity=None, primary_energy_consumption=None, renewables_cons_change_pct=None, renewables_cons_change_twh=None, renewables_consumption=None, renewables_elec_per_capita=None, renewables_electricity=72.9, renewables_energy_per_capita=None, renewables_share_elec=19.775, renewables_share_energy=None, solar_cons_change_pct=None, solar_cons_change_twh=None, solar_consumption=None, solar_elec_per_capita=None, solar_electricity=0.0, solar_energy_per_capita=None, solar_share_elec=0.0, solar_share_energy=None, wind_cons_change_pct=None, wind_cons_change_twh=None, wind_consumption=None, wind_elec_per_capita=None, wind_electricity=0.0, wind_energy_per_capita=None, wind_share_elec=0.0, wind_share_energy=None)"
      ]
     },
     "execution_count": 3,
     "metadata": {},
     "output_type": "execute_result"
    }
   ],
   "source": [
    "df.head()"
   ]
  },
  {
   "cell_type": "code",
   "execution_count": 4,
   "id": "8c4e216a-816b-43cf-9fc8-9ce2e6b3b2bc",
   "metadata": {},
   "outputs": [],
   "source": [
    "# Only World\n",
    "df = df[df['country'] == 'World']"
   ]
  },
  {
   "cell_type": "code",
   "execution_count": 5,
   "id": "cecc992f-2a4e-4cc4-ade6-af50e453ca75",
   "metadata": {},
   "outputs": [
    {
     "name": "stdout",
     "output_type": "stream",
     "text": [
      "+----+-----+\n",
      "|year|count|\n",
      "+----+-----+\n",
      "|1990|    1|\n",
      "|1991|    1|\n",
      "|1992|    1|\n",
      "|1993|    1|\n",
      "|1994|    1|\n",
      "|1995|    1|\n",
      "|1996|    1|\n",
      "|1997|    1|\n",
      "|1998|    1|\n",
      "|1999|    1|\n",
      "|2000|    1|\n",
      "|2001|    1|\n",
      "|2002|    1|\n",
      "|2003|    1|\n",
      "|2004|    1|\n",
      "|2005|    1|\n",
      "|2006|    1|\n",
      "|2007|    1|\n",
      "|2008|    1|\n",
      "|2009|    1|\n",
      "|2010|    1|\n",
      "|2011|    1|\n",
      "|2012|    1|\n",
      "|2013|    1|\n",
      "|2014|    1|\n",
      "|2015|    1|\n",
      "|2016|    1|\n",
      "|2017|    1|\n",
      "|2018|    1|\n",
      "|2019|    1|\n",
      "|2020|    1|\n",
      "|2021|    1|\n",
      "|2022|    1|\n",
      "+----+-----+\n",
      "\n"
     ]
    }
   ],
   "source": [
    "df = df[df['year'] >=1990]\n",
    "\n",
    "# Drop 2022 as well.\n",
    "# df = df[df['year'] >=1990]\n",
    "\n",
    "#40 years of data\n",
    "grouped_df = df.groupBy(\"year\").count().orderBy(\"year\")\n",
    "grouped_df.show(40)\n"
   ]
  },
  {
   "cell_type": "code",
   "execution_count": 6,
   "id": "2b263e1f-7b78-4c65-9ce4-acca1782673a",
   "metadata": {},
   "outputs": [
    {
     "data": {
      "text/plain": [
       "[Row(country='World', year=1990, iso_code=None, population=5316175872, gdp=43018245636096.0, biofuel_consumption=106.643, biofuel_electricity=None, biofuel_share_elec=None, biofuel_share_energy=0.112, carbon_intensity_elec=None, coal_consumption=25906.625, coal_electricity=4460.242, coal_production=26344.955, coal_share_elec=37.29, coal_share_energy=27.098, electricity_demand=None, electricity_generation=11960.959, electricity_share_energy=12.511, energy_per_gdp=2.222, fossil_electricity=7614.629, fossil_fuel_consumption=83064.32, fossil_share_elec=63.662, fossil_share_energy=86.883, gas_consumption=19481.125, gas_electricity=1789.703, gas_production=19697.166, gas_share_elec=14.963, gas_share_energy=20.377, greenhouse_gas_emissions=None, hydro_consumption=6383.708, hydro_electricity=2158.854, hydro_share_elec=18.049, hydro_share_energy=6.677, low_carbon_consumption=12540.152, low_carbon_electricity=4280.688, low_carbon_share_elec=35.789, low_carbon_share_energy=13.117, net_elec_imports=None, net_elec_imports_share_demand=None, nuclear_consumption=5676.721, nuclear_electricity=2000.596, nuclear_share_elec=16.726, nuclear_share_energy=5.938, oil_consumption=37676.57, oil_electricity=1364.684, oil_production=36726.777, oil_share_elec=11.409, oil_share_energy=39.409, other_renewable_consumption=361.191, other_renewable_electricity=117.217, other_renewable_exc_biofuel_electricity=None, other_renewables_share_elec=0.98, other_renewables_share_elec_exc_biofuel=None, other_renewables_share_energy=0.378, per_capita_electricity=2249.918, primary_energy_consumption=95604.477, renewables_consumption=6863.432, renewables_electricity=2280.092, renewables_share_elec=19.063, renewables_share_energy=7.179, solar_consumption=1.148, solar_electricity=0.388, solar_share_elec=0.003, solar_share_energy=0.001, wind_consumption=10.741, wind_electricity=3.632, wind_share_elec=0.03, wind_share_energy=0.011)]"
      ]
     },
     "execution_count": 6,
     "metadata": {},
     "output_type": "execute_result"
    }
   ],
   "source": [
    "# Dropping irrelevant columns\n",
    "cols_to_drop = [col for col in df.columns if '_per_capita' in col or '_change_pct' in col or '_change_twh' in col]\n",
    "df = df.drop(*cols_to_drop)\n",
    "\n",
    "# Show the updated DataFrame\n",
    "df.head(n=1)"
   ]
  },
  {
   "cell_type": "code",
   "execution_count": 7,
   "id": "53105243-1cc0-4df7-aaa0-f31e268ae857",
   "metadata": {},
   "outputs": [
    {
     "name": "stdout",
     "output_type": "stream",
     "text": [
      "+-------+-------+-----------------+--------+-------------------+--------------------+-------------------+-------------------+------------------+--------------------+---------------------+-----------------+-----------------+-----------------+------------------+------------------+------------------+----------------------+------------------------+------------------+------------------+-----------------------+-----------------+-------------------+-----------------+------------------+------------------+------------------+------------------+------------------------+------------------+------------------+------------------+-------------------+----------------------+----------------------+---------------------+-----------------------+----------------+-----------------------------+-------------------+-------------------+------------------+--------------------+-----------------+------------------+-----------------+------------------+------------------+---------------------------+---------------------------+---------------------------------------+---------------------------+---------------------------------------+-----------------------------+----------------------+--------------------------+----------------------+----------------------+---------------------+-----------------------+-----------------+------------------+------------------+-------------------+------------------+-----------------+------------------+------------------+\n",
      "|summary|country|             year|iso_code|         population|                 gdp|biofuel_consumption|biofuel_electricity|biofuel_share_elec|biofuel_share_energy|carbon_intensity_elec| coal_consumption| coal_electricity|  coal_production|   coal_share_elec| coal_share_energy|electricity_demand|electricity_generation|electricity_share_energy|    energy_per_gdp|fossil_electricity|fossil_fuel_consumption|fossil_share_elec|fossil_share_energy|  gas_consumption|   gas_electricity|    gas_production|    gas_share_elec|  gas_share_energy|greenhouse_gas_emissions| hydro_consumption| hydro_electricity|  hydro_share_elec| hydro_share_energy|low_carbon_consumption|low_carbon_electricity|low_carbon_share_elec|low_carbon_share_energy|net_elec_imports|net_elec_imports_share_demand|nuclear_consumption|nuclear_electricity|nuclear_share_elec|nuclear_share_energy|  oil_consumption|   oil_electricity|   oil_production|    oil_share_elec|  oil_share_energy|other_renewable_consumption|other_renewable_electricity|other_renewable_exc_biofuel_electricity|other_renewables_share_elec|other_renewables_share_elec_exc_biofuel|other_renewables_share_energy|per_capita_electricity|primary_energy_consumption|renewables_consumption|renewables_electricity|renewables_share_elec|renewables_share_energy|solar_consumption| solar_electricity|  solar_share_elec| solar_share_energy|  wind_consumption| wind_electricity|   wind_share_elec| wind_share_energy|\n",
      "+-------+-------+-----------------+--------+-------------------+--------------------+-------------------+-------------------+------------------+--------------------+---------------------+-----------------+-----------------+-----------------+------------------+------------------+------------------+----------------------+------------------------+------------------+------------------+-----------------------+-----------------+-------------------+-----------------+------------------+------------------+------------------+------------------+------------------------+------------------+------------------+------------------+-------------------+----------------------+----------------------+---------------------+-----------------------+----------------+-----------------------------+-------------------+-------------------+------------------+--------------------+-----------------+------------------+-----------------+------------------+------------------+---------------------------+---------------------------+---------------------------------------+---------------------------+---------------------------------------+-----------------------------+----------------------+--------------------------+----------------------+----------------------+---------------------+-----------------------+-----------------+------------------+------------------+-------------------+------------------+-----------------+------------------+------------------+\n",
      "|  count|     33|               33|       0|                 33|                   6|                 33|                 23|                23|                  33|                   23|               33|               33|               33|                33|                33|                23|                    33|                      33|                 6|                33|                     33|               33|                 33|               33|                33|                33|                33|                33|                      23|                33|                33|                33|                 33|                    33|                    33|                   33|                     33|               0|                            0|                 33|                 33|                33|                  33|               33|                33|               33|                33|                33|                         33|                         33|                                     23|                         33|                                     23|                           33|                    33|                        33|                    33|                    33|                   33|                     33|               33|                33|                33|                 33|                33|               33|                33|                33|\n",
      "|   mean|   null|           2006.0|    null|6.657707737212121E9|8.731455092599467E13|  499.0491515151514| 366.45739130434777|1.6189999999999998| 0.34545454545454546|   470.14791304347824|35554.36769696969|7300.501181818183|35664.18554545455| 38.51648484848485|27.343575757575756| 21439.23430434783|    18966.334515151517|      14.455060606060606|1.6529999999999998|12298.408121212124|     110173.20787878789|64.77048484848483|   85.4300606060606|28756.95918181818|3881.3301515151516|28877.354060606063|19.691606060606052| 22.07006060606061|      10040.111304347827| 8845.731121212119|3151.8434545454543| 16.82730303030303|  6.855363636363635|     19025.73448484849|     6643.130999999999|    35.04387878787879|     14.569939393939396|            null|                         null|  6897.646393939395| 2499.4676666666664|13.959121212121213|   5.502878787878789|45861.88142424243|1116.5767878787879|44571.54884848484| 6.562303030303029|36.016393939393936|         1067.0902727272728|          349.9475151515151|                      72.58347826086958|         1.6938181818181817|                     0.3383043478260869|           0.7676666666666666|    2798.4898181818194|        129198.93984848484|    12128.088272727278|     4143.663363636364|   21.084909090909093|       9.06712121212121|492.6468181818181|183.57815151515152|0.7023030303030301|0.30763636363636365|1223.5710909090908| 458.294212121212|1.8613636363636366|0.7908484848484848|\n",
      "| stddev|   null|9.669539802906858|    null|8.115701365932343E8|2.946676386113853E13|   398.050592204066| 174.28650183005598|0.4888056873646215| 0.23348890376593526|   16.035759164819574|7982.932748399283|1949.478733377615|8479.608980817875|1.4768270066516784|1.7811538751309317| 4180.598642963721|     5178.718509788788|      1.2805841181711268|0.3226081214104814| 3361.571809782003|     19468.493379089494|2.092435604164609| 1.3093457321166606|6758.014697809881|1576.1271548724885| 6858.021585966162|3.1581195348200675|1.1257766469029808|      1738.9393791025832|1636.7309951594586| 726.6030091297749|0.9579540204534999|0.23855316731572382|     5021.926897123752|    1923.5139964043353|   1.9490917557540712|      1.309345732116663|            null|                         null|  515.3035534259723| 194.95827874135438| 3.013197769372013|  0.9669021653448112|5082.618054103691|171.00569207828232|5039.599095722261|2.6243441262157354|2.9442262877897387|          645.1738484854911|          208.6669142401535|                     14.978831004483268|          0.576118068115461|                   0.011092318319075556|          0.33488353074862703|    430.59726340880667|        24177.526353461562|     4979.750832796714|    1816.9404357275796|    3.392587925939027|       2.05239024916035|894.1151997733729|   336.07478595518|1.2242866669220205| 0.5437373457252717| 1588.328611242026|607.6804578769564|2.2291154189804447|0.9684200122239097|\n",
      "|    min|  World|             1990|    null|         5316175872|  4.3018245636096E13|            106.643|              143.1|             0.942|               0.112|              436.336|        25558.422|         4460.242|        24802.262|            35.365|            24.629|          14971.79|             11960.959|                  12.511|              1.42|          7614.629|               83064.32|           60.941|             81.792|        19481.125|          1789.703|         19697.166|            14.793|            20.377|                 6979.65|          6383.708|          2158.854|            15.167|              6.414|             12540.152|              4280.688|               32.013|                 13.117|            null|                         null|           5676.721|           2000.596|             9.149|               3.995|        37663.043|             741.0|        36627.695|              2.82|            30.891|                    361.191|                    117.217|                                  52.37|                       0.98|                                  0.318|                        0.378|              2245.886|                 95604.477|              6863.432|              2280.092|                17.75|                  7.179|            1.148|             0.388|             0.003|              0.001|            10.741|            3.632|              0.03|             0.011|\n",
      "|    max|  World|             2022|    null|         7975105024| 1.13630171365376E14|           1199.207|             677.57|             2.385|               0.715|              489.054|        44858.121|         10190.71|          48490.0|            40.975|            30.361|          28527.76|              28527.76|                  17.002|             2.222|          17385.15|             137236.672|           67.987|             86.883|         40670.66|            6326.0|         40534.203|            23.426|            24.532|                 12447.7|         11448.027|            4341.1|            18.584|              7.275|             30551.008|              11142.61|               39.059|                 18.208|            null|                         null|           7653.722|            2740.78|            17.443|               6.712|        53512.844|          1364.684|        52190.699|            11.409|            39.462|                   2413.808|                     777.31|                                  99.74|                      2.726|                                  0.358|                        1.439|              3577.102|                167787.672|             23848.668|               8532.57|                29.91|                 14.214|         3448.237|           1289.27|             4.519|              2.055|            5487.6|          2139.23|             7.499|             3.271|\n",
      "+-------+-------+-----------------+--------+-------------------+--------------------+-------------------+-------------------+------------------+--------------------+---------------------+-----------------+-----------------+-----------------+------------------+------------------+------------------+----------------------+------------------------+------------------+------------------+-----------------------+-----------------+-------------------+-----------------+------------------+------------------+------------------+------------------+------------------------+------------------+------------------+------------------+-------------------+----------------------+----------------------+---------------------+-----------------------+----------------+-----------------------------+-------------------+-------------------+------------------+--------------------+-----------------+------------------+-----------------+------------------+------------------+---------------------------+---------------------------+---------------------------------------+---------------------------+---------------------------------------+-----------------------------+----------------------+--------------------------+----------------------+----------------------+---------------------+-----------------------+-----------------+------------------+------------------+-------------------+------------------+-----------------+------------------+------------------+\n",
      "\n"
     ]
    }
   ],
   "source": [
    "df.describe().show()"
   ]
  },
  {
   "cell_type": "code",
   "execution_count": 8,
   "id": "16d678c1-2761-48e3-8faf-f2813eb32a1a",
   "metadata": {},
   "outputs": [],
   "source": [
    "### LEVEL 1 CATEGORIZATION FOR BACKFILLING AND LOGICAL SEPARATION\n",
    "\n",
    "# Primary Key Columns\n",
    "primary_keys = ['country', 'year', 'iso_code']\n",
    "\n",
    "# 1. General Information\n",
    "df_general = df[primary_keys + ['population', 'gdp', 'electricity_demand', 'electricity_generation', 'energy_per_gdp', 'primary_energy_consumption', 'per_capita_electricity']]\n",
    "\n",
    "# 2. Biofuel\n",
    "df_biofuel = df[primary_keys + ['biofuel_consumption', 'biofuel_electricity', 'biofuel_share_elec', 'biofuel_share_energy']]\n",
    "\n",
    "# 3. Coal\n",
    "df_coal = df[primary_keys + ['coal_consumption', 'coal_electricity', 'coal_production', 'coal_share_elec', 'coal_share_energy']]\n",
    "\n",
    "# 4. Gas\n",
    "df_gas = df[primary_keys + ['gas_consumption', 'gas_electricity', 'gas_production', 'gas_share_elec', 'gas_share_energy']]\n",
    "\n",
    "# 5. Oil\n",
    "df_oil = df[primary_keys + ['oil_consumption', 'oil_electricity', 'oil_production', 'oil_share_elec', 'oil_share_energy']]\n",
    "\n",
    "# 6. Fossil Fuels (Aggregate)\n",
    "df_fossil = df[primary_keys + ['fossil_electricity', 'fossil_fuel_consumption', 'fossil_share_elec', 'fossil_share_energy', 'carbon_intensity_elec']]\n",
    "\n",
    "# 7. Greenhouse Gas\n",
    "df_greenhouse_gas = df[primary_keys + ['greenhouse_gas_emissions']]\n",
    "\n",
    "# 8. Hydro\n",
    "df_hydro = df[primary_keys + ['hydro_consumption', 'hydro_electricity', 'hydro_share_elec', 'hydro_share_energy']]\n",
    "\n",
    "# 9. Nuclear\n",
    "df_nuclear = df[primary_keys + ['nuclear_consumption', 'nuclear_electricity', 'nuclear_share_elec', 'nuclear_share_energy']]\n",
    "\n",
    "# 10. Renewables (Aggregate)\n",
    "df_renewables = df[primary_keys + ['renewables_consumption', 'renewables_electricity', 'renewables_share_elec', 'renewables_share_energy']]\n",
    "\n",
    "# 11. Solar\n",
    "df_solar = df[primary_keys + ['solar_consumption', 'solar_electricity', 'solar_share_elec', 'solar_share_energy']]\n",
    "\n",
    "# 12. Wind\n",
    "df_wind = df[primary_keys + ['wind_consumption', 'wind_electricity', 'wind_share_elec', 'wind_share_energy']]\n",
    "\n",
    "# 13. Other Renewables\n",
    "df_other_renewables = df[primary_keys + ['other_renewable_consumption', 'other_renewable_electricity', 'other_renewable_exc_biofuel_electricity', 'other_renewables_share_elec', 'other_renewables_share_elec_exc_biofuel', 'other_renewables_share_energy']]\n",
    "\n",
    "# 14. Low Carbon\n",
    "df_low_carbon = df[primary_keys + ['low_carbon_consumption', 'low_carbon_electricity', 'low_carbon_share_elec', 'low_carbon_share_energy']]\n",
    "\n",
    "# 15. Electricity Imports\n",
    "df_electricity_imports = df[primary_keys + ['net_elec_imports', 'net_elec_imports_share_demand']]\n"
   ]
  },
  {
   "cell_type": "code",
   "execution_count": 9,
   "id": "2f74a438-f5af-4836-b210-21aa25f44d8c",
   "metadata": {
    "tags": []
   },
   "outputs": [],
   "source": [
    "from pyspark.sql import functions as F\n",
    "\n",
    "def filter_df_by_threshold(df, threshold):\n",
    "    \"\"\"\n",
    "    Filter a dataframe based on the threshold of non-null counts in non-primary columns.\n",
    "\n",
    "    Parameters:\n",
    "    - df: The input dataframe.\n",
    "    - threshold: The minimum number of non-null values required across non-primary columns.\n",
    "\n",
    "    Returns:\n",
    "    - filtered_df: The filtered dataframe.\n",
    "    - stats: A dictionary containing statistics about the filtering process.\n",
    "    \"\"\"\n",
    "\n",
    "    # Primary Key Columns\n",
    "    primary_keys = ['country', 'year', 'iso_code']\n",
    "\n",
    "    # List of columns to check for null values\n",
    "    columns_to_check = [col for col in df.columns if col not in primary_keys]\n",
    "\n",
    "    # Count non-null values across all non-primary columns for each country\n",
    "    agg_exprs = [F.count(F.when(F.col(c).isNotNull(), 1)).alias(c + '_non_null_count') for c in columns_to_check]\n",
    "    country_counts = df.groupBy('country').agg(*agg_exprs)\n",
    "\n",
    "    # Sum the non-null counts across all columns for each country\n",
    "    total_non_null_counts = sum(F.col(c + '_non_null_count') for c in columns_to_check)\n",
    "    country_counts = country_counts.withColumn('total_non_null_counts', total_non_null_counts)\n",
    "    \n",
    "   # Filter countries based on the threshold\n",
    "    countries_to_keep_df = country_counts.filter(F.col('total_non_null_counts') > threshold).select('country')\n",
    "\n",
    "    # Find out the countries that were dropped\n",
    "    all_countries = df.select('country').distinct()\n",
    "    dropped_countries_df = all_countries.subtract(countries_to_keep_df)\n",
    "    dropped_countries = [row['country'] for row in dropped_countries_df.collect()]\n",
    "\n",
    "    # Join with the original DataFrame to get the filtered data\n",
    "    filtered_df = df.join(countries_to_keep_df, on='country', how='inner')\n",
    "\n",
    "    original_row_count = df.count()\n",
    "    filtered_row_count = filtered_df.count()\n",
    "    rows_dropped = original_row_count - filtered_row_count\n",
    "\n",
    "    stats = {\n",
    "        'Original number of rows': original_row_count,\n",
    "        'Number of rows after filtering': filtered_row_count,\n",
    "        'Number of rows dropped': rows_dropped,\n",
    "        'Dropped countries': dropped_countries\n",
    "    }\n",
    "    \n",
    "    print(stats)\n",
    "    \n",
    "    return filtered_df\n",
    "\n",
    "# # Usage example:\n",
    "# filtered_df_fossil = filter_df_by_threshold(df_fossil, 5)\n",
    "\n",
    "def count_nulls_by_country(df):\n",
    "    \"\"\"\n",
    "    Count the number of null values for each country and each column (except 'country').\n",
    "\n",
    "    Parameters:\n",
    "    - df: The input dataframe.\n",
    "\n",
    "    Returns:\n",
    "    - null_counts_df: A dataframe with the count of null values for each column and country.\n",
    "    \"\"\"\n",
    "\n",
    "    # Generate the aggregation expressions\n",
    "    agg_exprs = [F.count(F.when(F.col(c).isNull(), c)).alias(c) for c in df.columns if c != 'country']\n",
    "\n",
    "    # Group by 'country' and aggregate\n",
    "    null_counts_df = df.groupBy(\"country\").agg(*agg_exprs)\n",
    "\n",
    "    return null_counts_df\n",
    "\n",
    "# # Usage example:\n",
    "# null_counts_fossil = count_nulls_by_country(df_fossil)\n",
    "\n",
    "# # Show the results\n",
    "# null_counts_fossil.show(n=300)\n",
    "\n",
    "from pyspark.sql import functions as F\n",
    "\n",
    "def filter_rows_by_null_threshold(df):\n",
    "    \"\"\"\n",
    "    Filter rows from a dataframe based on the threshold of null values across non-primary columns.\n",
    "\n",
    "    Parameters:\n",
    "    - df: The input dataframe.\n",
    "\n",
    "    Returns:\n",
    "    - filtered_df: The filtered dataframe.\n",
    "    - stats: A dictionary containing statistics about the filtering process.\n",
    "    \"\"\"\n",
    "    \n",
    "    # Primary Key Columns\n",
    "    primary_keys = ['country', 'year', 'iso_code']\n",
    "\n",
    "    # List of columns to check for null values\n",
    "    columns_to_check = [col for col in df.columns if col not in primary_keys]\n",
    "\n",
    "    # Set the threshold equal to the number of non-primary key columns\n",
    "    threshold = len(columns_to_check)\n",
    "\n",
    "    # Calculate the number of nulls for each row\n",
    "    null_count = sum(F.when(F.col(c).isNull(), 1).otherwise(0) for c in columns_to_check)\n",
    "\n",
    "    # Filter rows based on the threshold\n",
    "    filtered_df = df.filter(null_count < threshold)\n",
    "\n",
    "    original_row_count = df.count()\n",
    "    filtered_row_count = filtered_df.count()\n",
    "    rows_dropped = original_row_count - filtered_row_count\n",
    "\n",
    "    stats = {\n",
    "        'Original number of rows': original_row_count,\n",
    "        'Number of rows after filtering': filtered_row_count,\n",
    "        'Number of rows dropped': rows_dropped\n",
    "    }\n",
    "    \n",
    "    print(stats)\n",
    "\n",
    "    return filtered_df\n",
    "\n",
    "# # Usage example:\n",
    "# filtered_df_fossil, fossil_stats = filter_rows_by_null_threshold(df_fossil)\n"
   ]
  },
  {
   "cell_type": "code",
   "execution_count": 10,
   "id": "cf12623b-7ce9-4238-a3ac-5aa6e6a142ac",
   "metadata": {
    "tags": []
   },
   "outputs": [
    {
     "name": "stdout",
     "output_type": "stream",
     "text": [
      "+-------+----+--------+------------------+-----------------------+-----------------+-------------------+---------------------+\n",
      "|country|year|iso_code|fossil_electricity|fossil_fuel_consumption|fossil_share_elec|fossil_share_energy|carbon_intensity_elec|\n",
      "+-------+----+--------+------------------+-----------------------+-----------------+-------------------+---------------------+\n",
      "|  World|   0|      33|                 0|                      0|                0|                  0|                   10|\n",
      "+-------+----+--------+------------------+-----------------------+-----------------+-------------------+---------------------+\n",
      "\n"
     ]
    }
   ],
   "source": [
    "# Usage example:\n",
    "null_counts_fossil = count_nulls_by_country(df_fossil)\n",
    "\n",
    "# # Show the results\n",
    "null_counts_fossil.show(n=300)"
   ]
  },
  {
   "cell_type": "code",
   "execution_count": 11,
   "id": "e9db909b-17d8-4195-9629-42bb4373bb72",
   "metadata": {
    "tags": []
   },
   "outputs": [
    {
     "name": "stdout",
     "output_type": "stream",
     "text": [
      "{'Original number of rows': 33, 'Number of rows after filtering': 33, 'Number of rows dropped': 0, 'Dropped countries': []}\n"
     ]
    }
   ],
   "source": [
    "filtered_df_fossil = filter_df_by_threshold(df_fossil, 0)"
   ]
  },
  {
   "cell_type": "code",
   "execution_count": 12,
   "id": "25e60749-1746-4b07-a816-505f887d9396",
   "metadata": {},
   "outputs": [
    {
     "name": "stdout",
     "output_type": "stream",
     "text": [
      "{'Original number of rows': 33, 'Number of rows after filtering': 33, 'Number of rows dropped': 0, 'Dropped countries': []}\n",
      "+-------+----+--------+----------------------+----------------------+---------------------+-----------------------+\n",
      "|country|year|iso_code|renewables_consumption|renewables_electricity|renewables_share_elec|renewables_share_energy|\n",
      "+-------+----+--------+----------------------+----------------------+---------------------+-----------------------+\n",
      "|  World|   0|      33|                     0|                     0|                    0|                      0|\n",
      "+-------+----+--------+----------------------+----------------------+---------------------+-----------------------+\n",
      "\n"
     ]
    }
   ],
   "source": [
    "filtered_df_ren = filter_df_by_threshold(df_renewables, 5)\n",
    "\n",
    "# Assuming df is your DataFrame\n",
    "null_counts_ren = count_nulls_by_country(filtered_df_ren)\n",
    "\n",
    "# Show the results\n",
    "null_counts_ren.show(n=300)"
   ]
  },
  {
   "cell_type": "code",
   "execution_count": null,
   "id": "1d25f961-9a9c-4ba6-a0ba-f9a3f1e82829",
   "metadata": {},
   "outputs": [],
   "source": []
  }
 ],
 "metadata": {
  "kernelspec": {
   "display_name": "Python 3 (ipykernel)",
   "language": "python",
   "name": "python3"
  },
  "language_info": {
   "codemirror_mode": {
    "name": "ipython",
    "version": 3
   },
   "file_extension": ".py",
   "mimetype": "text/x-python",
   "name": "python",
   "nbconvert_exporter": "python",
   "pygments_lexer": "ipython3",
   "version": "3.7.12"
  }
 },
 "nbformat": 4,
 "nbformat_minor": 5
}
