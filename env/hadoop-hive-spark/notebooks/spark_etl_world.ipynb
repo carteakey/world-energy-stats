{
 "cells": [
  {
   "cell_type": "code",
   "execution_count": 3,
   "id": "a6f543c6-fc4e-419f-97b2-926a95537231",
   "metadata": {},
   "outputs": [],
   "source": [
    "from pyspark.sql import SparkSession\n",
    "\n",
    "# Spark session & context\n",
    "# Spark session & context\n",
    "spark = SparkSession.builder \\\n",
    "    .appName(\"world-energy-stats\") \\\n",
    "    .master(\"spark://spark-master:7077\")\\\n",
    "    .config(\"hive.metastore.uris\", \"thrift://hive-metastore:9083\") \\\n",
    "    .enableHiveSupport() \\\n",
    "    .getOrCreate()\n",
    "\n",
    "#Local Development\n",
    "# spark = SparkSession.builder.appName(\"world-energy-stats\").master(\"local\").getOrCreate()"
   ]
  },
  {
   "cell_type": "code",
   "execution_count": 4,
   "id": "adfbf750-99a1-42f9-9812-d0f5142d7617",
   "metadata": {},
   "outputs": [],
   "source": [
    "df = (spark.read\n",
    "  .format(\"csv\")\n",
    "  .option(\"header\", \"true\")\n",
    "  .option(\"inferSchema\", \"true\")\n",
    "   .load(\"hdfs://namenode:9000/energy-data/owid-energy-data.csv\"))\n",
    "\n",
    "#Local Development\n",
    "# df = spark.read.csv(\"owid-energy-data.csv\", header=True, inferSchema=True)"
   ]
  },
  {
   "cell_type": "code",
   "execution_count": 6,
   "id": "8c4e216a-816b-43cf-9fc8-9ce2e6b3b2bc",
   "metadata": {},
   "outputs": [],
   "source": [
    "# Only World\n",
    "df = df[df['country'] == 'World']"
   ]
  },
  {
   "cell_type": "code",
   "execution_count": 7,
   "id": "cecc992f-2a4e-4cc4-ade6-af50e453ca75",
   "metadata": {},
   "outputs": [
    {
     "name": "stdout",
     "output_type": "stream",
     "text": [
      "+----+-----+\n",
      "|year|count|\n",
      "+----+-----+\n",
      "|1990|    1|\n",
      "|1991|    1|\n",
      "|1992|    1|\n",
      "|1993|    1|\n",
      "|1994|    1|\n",
      "|1995|    1|\n",
      "|1996|    1|\n",
      "|1997|    1|\n",
      "|1998|    1|\n",
      "|1999|    1|\n",
      "|2000|    1|\n",
      "|2001|    1|\n",
      "|2002|    1|\n",
      "|2003|    1|\n",
      "|2004|    1|\n",
      "|2005|    1|\n",
      "|2006|    1|\n",
      "|2007|    1|\n",
      "|2008|    1|\n",
      "|2009|    1|\n",
      "|2010|    1|\n",
      "|2011|    1|\n",
      "|2012|    1|\n",
      "|2013|    1|\n",
      "|2014|    1|\n",
      "|2015|    1|\n",
      "|2016|    1|\n",
      "|2017|    1|\n",
      "|2018|    1|\n",
      "|2019|    1|\n",
      "|2020|    1|\n",
      "|2021|    1|\n",
      "|2022|    1|\n",
      "+----+-----+\n",
      "\n"
     ]
    }
   ],
   "source": [
    "df = df[df['year'] >=1990]\n",
    "\n",
    "# Drop 2022 as well.\n",
    "# df = df[df['year'] >=1990]\n",
    "\n",
    "#40 years of data\n",
    "grouped_df = df.groupBy(\"year\").count().orderBy(\"year\")\n",
    "grouped_df.show(40)\n"
   ]
  },
  {
   "cell_type": "code",
   "execution_count": 8,
   "id": "2b263e1f-7b78-4c65-9ce4-acca1782673a",
   "metadata": {},
   "outputs": [
    {
     "data": {
      "text/plain": [
       "[Row(country='World', year=1990, iso_code=None, population=5316175872, gdp=43018245636096.0, biofuel_consumption=106.643, biofuel_electricity=None, biofuel_share_elec=None, biofuel_share_energy=0.112, carbon_intensity_elec=None, coal_consumption=25906.625, coal_electricity=4460.242, coal_production=26344.955, coal_share_elec=37.29, coal_share_energy=27.098, electricity_demand=None, electricity_generation=11960.959, electricity_share_energy=12.511, energy_per_gdp=2.222, fossil_electricity=7614.629, fossil_fuel_consumption=83064.32, fossil_share_elec=63.662, fossil_share_energy=86.883, gas_consumption=19481.125, gas_electricity=1789.703, gas_production=19697.166, gas_share_elec=14.963, gas_share_energy=20.377, greenhouse_gas_emissions=None, hydro_consumption=6383.708, hydro_electricity=2158.854, hydro_share_elec=18.049, hydro_share_energy=6.677, low_carbon_consumption=12540.152, low_carbon_electricity=4280.688, low_carbon_share_elec=35.789, low_carbon_share_energy=13.117, net_elec_imports=None, net_elec_imports_share_demand=None, nuclear_consumption=5676.721, nuclear_electricity=2000.596, nuclear_share_elec=16.726, nuclear_share_energy=5.938, oil_consumption=37676.57, oil_electricity=1364.684, oil_production=36726.777, oil_share_elec=11.409, oil_share_energy=39.409, other_renewable_consumption=361.191, other_renewable_electricity=117.217, other_renewable_exc_biofuel_electricity=None, other_renewables_share_elec=0.98, other_renewables_share_elec_exc_biofuel=None, other_renewables_share_energy=0.378, per_capita_electricity=2249.918, primary_energy_consumption=95604.477, renewables_consumption=6863.432, renewables_electricity=2280.092, renewables_share_elec=19.063, renewables_share_energy=7.179, solar_consumption=1.148, solar_electricity=0.388, solar_share_elec=0.003, solar_share_energy=0.001, wind_consumption=10.741, wind_electricity=3.632, wind_share_elec=0.03, wind_share_energy=0.011)]"
      ]
     },
     "execution_count": 8,
     "metadata": {},
     "output_type": "execute_result"
    }
   ],
   "source": [
    "# Dropping irrelevant columns\n",
    "cols_to_drop = [col for col in df.columns if '_per_capita' in col or '_change_pct' in col or '_change_twh' in col]\n",
    "df = df.drop(*cols_to_drop)\n",
    "\n",
    "# Show the updated DataFrame\n",
    "df.head(n=1)"
   ]
  },
  {
   "cell_type": "code",
   "execution_count": 11,
   "id": "1d25f961-9a9c-4ba6-a0ba-f9a3f1e82829",
   "metadata": {},
   "outputs": [],
   "source": [
    "folder_path = './clean/'\n",
    "df.toPandas().to_csv(folder_path + 'world.csv', index=False)\n",
    "\n",
    "# save to hive tables.\n",
    "df.write.mode(\"overwrite\").saveAsTable(\"wes.world\")"
   ]
  }
 ],
 "metadata": {
  "kernelspec": {
   "display_name": "Python 3 (ipykernel)",
   "language": "python",
   "name": "python3"
  },
  "language_info": {
   "codemirror_mode": {
    "name": "ipython",
    "version": 3
   },
   "file_extension": ".py",
   "mimetype": "text/x-python",
   "name": "python",
   "nbconvert_exporter": "python",
   "pygments_lexer": "ipython3",
   "version": "3.7.12"
  }
 },
 "nbformat": 4,
 "nbformat_minor": 5
}
